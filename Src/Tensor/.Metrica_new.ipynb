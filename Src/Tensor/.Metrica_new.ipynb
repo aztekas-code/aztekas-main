{
 "cells": [
  {
   "cell_type": "markdown",
   "metadata": {},
   "source": [
    "# Compute Hydrodynamic equations in 3+1 formalism\n",
    "\n",
    "In this file, we compute  the 3+1 form of the conservative variables, fluxes and sources of the hydrodynamic relativistic equations. The formalism is taken from the book *Introduction to 3+1 Numerical Relativity* by *Miguel Alcubierre*."
   ]
  },
  {
   "cell_type": "markdown",
   "metadata": {},
   "source": [
    "## Import packages\n",
    "\n",
    "1. Sympy is used to simplification."
   ]
  },
  {
   "cell_type": "code",
   "execution_count": 1,
   "metadata": {},
   "outputs": [],
   "source": [
    "from sympy import *\n",
    "from gravipy import *\n",
    "init_printing(use_unicode=True)\n",
    "\n",
    "type_file = 'c'\n",
    "\n",
    "if type_file == 'c':\n",
    "    from sympy.printing import StrPrinter\n",
    "    StrPrinter._print_Pow = lambda self, expr: \"pow(%s, %s)\" % (self._print(expr.base), self._print(expr.exp))"
   ]
  },
  {
   "cell_type": "markdown",
   "metadata": {},
   "source": [
    "## Metric conversion\n",
    "\n",
    "In this section, you choose which coordiante system (**cart, cyll, sphr**) you want to used for the predefined metrics:\n",
    "1. Minkowski (**Mink**)\n",
    "$$\\mathrm{d}s^2 = - \\mathrm{d}t^2 + \\mathrm{d}x^2 + \\mathrm{d}y^2 + \\mathrm{d}z^2.$$\n",
    "\n",
    "2. Schwarzschild (**Schw**)\n",
    "$$\\mathrm{d}s^2 = - \\left( 1 - \\frac{2M}{r} \\right) \\mathrm{d}t^2 + \\frac{1}{1 - \\frac{2M}{r}} \\mathrm{d}r^2 + r^2 \\left( \\mathrm{d}\\theta^2 + \\sin^2 \\theta \\mathrm{d}\\phi \\right).$$\n",
    "\n",
    "3. Schwarzschild -> Ingoing Eddington-Finkelstein (**EF**)\n",
    "$$\\mathrm{d}s^2 = - \\left( 1 - \\frac{2M}{r} \\right) \\mathrm{d}{t'}^2 + \\frac{4M}{r} \\mathrm{d}t' \\mathrm{d}r +\\left( 1 + \\frac{2M}{r}\\right) \\mathrm{d}r^2 + r^2 \\left( \\mathrm{d}\\theta^2 + \\sin^2 \\theta \\mathrm{d}\\phi \\right).$$\n",
    "\n",
    "The default coordinate system is spherical, even in the Minkowski case, a conversion to cartesian or cylindrical is performed. \n",
    "\n",
    "Any other metric, like the Kerr black hole one, could be added. Each new parameter included, like the black hole mass *M* should be defined as a symbols using the *symbols* function.\n",
    "\n",
    "After the definition, the metric tensor $g_{\\mu \\nu}$ (**G**), its inverse $g^{\\mu \\nu}$ (**iG**) and its determinant $\\mathrm{det}(g)$ (**det**) are computed. As well as the 3D-metric $\\gamma_{ij}$ (**Y, iY** and **dety**).\n",
    "\n",
    "Units are taken to be $G = \\mathrm{c} = 1$."
   ]
  },
  {
   "cell_type": "code",
   "execution_count": 2,
   "metadata": {},
   "outputs": [],
   "source": [
    "# Choose metric\n",
    "t = symbols('t', positive = True, real = True)\n",
    "r = symbols('r', positive = True, real = True)\n",
    "theta = symbols('theta', real = True)\n",
    "phi = symbols('phi',positive = True, real = True)\n",
    "metric = 'Schw'\n",
    "coords = 'cart'\n",
    "\n",
    "if metric == 'Mink':\n",
    "    M    = symbols('M', positive = True, real = True)\n",
    "    G    = Matrix([[-1,0,0,0],[0,1,0,0],[0,0,r**2,0],[0,0,0,r**2*sin(theta)**2]])\n",
    "    iG   = simplify(G**-1)\n",
    "    detg = simplify(G.det())\n",
    "    Y    = G[1:4,1:4]\n",
    "    iY   = simplify(Y**-1)\n",
    "    dety = simplify(Y.det())\n",
    "elif metric == 'Schw':\n",
    "    M    = symbols('M', positive = True, real = True)\n",
    "    G    = Matrix([[-(1 - 2*M/r),0,0,0],[0,1/(1 - 2*M/r),0,0],[0,0,r**2,0],[0,0,0,r**2*sin(theta)**2]])\n",
    "    iG   = simplify(G**-1)\n",
    "    detg = simplify(G.det())\n",
    "    Y    = G[1:4,1:4]\n",
    "    iY   = simplify(Y**-1)\n",
    "    dety = simplify(Y.det())\n",
    "elif metric == 'EF':\n",
    "    M    = symbols('M', positive = True, real = True)\n",
    "    G    = Matrix([[-(1 - 2*M/r),2*M/r,0,0],[2*M/r,1 + 2*M/r,0,0],[0,0,r**2,0],[0,0,0,r**2*sin(theta)**2]])\n",
    "    iG   = simplify(G**-1)\n",
    "    detg = simplify(G.det())\n",
    "    Y    = G[1:4,1:4]\n",
    "    iY   = simplify(Y**-1)\n",
    "    dety = simplify(Y.det())"
   ]
  },
  {
   "cell_type": "markdown",
   "metadata": {},
   "source": [
    "In this part the coordinate transformation is performed using:\n",
    "$$g_{\\mu' \\nu'} = \\frac{\\partial x^\\mu}{\\partial x^{\\mu'}} \\frac{\\partial x^\\nu}{\\partial x^{\\nu'}} g_{\\mu \\nu},$$\n",
    "where\n",
    "$$x^\\mu = (t,r,\\theta,\\phi),$$\n",
    "and\n",
    "$$x^{\\mu'} = (t,x,y,z),$$\n",
    "or\n",
    "$$x^{\\mu'} = (t,R,z,\\phi).$$"
   ]
  },
  {
   "cell_type": "code",
   "execution_count": 3,
   "metadata": {},
   "outputs": [],
   "source": [
    "if coords == 'cart':\n",
    "    t = t\n",
    "    x = r*sin(theta)*cos(phi)\n",
    "    y = r*sin(theta)*sin(phi)\n",
    "    z = r*cos(theta)\n",
    "   \n",
    "    CART = Matrix([t,x,y,z])\n",
    "    SPHR = Matrix([t,r,theta,phi])\n",
    "   \n",
    "    J  = simplify(CART.jacobian(SPHR))\n",
    "    iJ = simplify(J**-1)\n",
    "    \n",
    "    G  = iJ.T * G * iJ\n",
    "    iG = J * iG * J.T\n",
    "    \n",
    "    CART = Matrix([x,y,z])\n",
    "    SPHR = Matrix([r,theta,phi])\n",
    "    \n",
    "    J  = simplify(CART.jacobian(SPHR))\n",
    "    iJ = simplify(J**-1)\n",
    "    \n",
    "    Y  = iJ.T * Y * iJ\n",
    "    iY = J * iY * J.T  \n",
    "    \n",
    "elif coords == 'cyll':\n",
    "    t   = t\n",
    "    R   = r*sin(theta)\n",
    "    z   = r*cos(theta)\n",
    "    phi = phi\n",
    "    \n",
    "    CYLL = Matrix([t,R,z,phi])\n",
    "    SPHR = Matrix([t,r,theta,phi])\n",
    "    \n",
    "    J  = simplify(CYLL.jacobian(SPHR))\n",
    "    iJ = simplify(J**-1)\n",
    "    \n",
    "    G  = iJ.T * G * iJ\n",
    "    iG = J * iG * J.T\n",
    "    \n",
    "    CYLL = Matrix([R,z,phi])\n",
    "    SPHR = Matrix([r,theta,phi])\n",
    "    \n",
    "    J  = simplify(CYLL.jacobian(SPHR))\n",
    "    iJ = simplify(J**-1)\n",
    "    \n",
    "    Y  = iJ.T * Y * iJ\n",
    "    iY = J * iY * J.T    "
   ]
  },
  {
   "cell_type": "markdown",
   "metadata": {},
   "source": [
    "Simplification of the 4D and 3D metrics."
   ]
  },
  {
   "cell_type": "code",
   "execution_count": 4,
   "metadata": {},
   "outputs": [],
   "source": [
    "G  = simplify(G)\n",
    "iG = simplify(iG)\n",
    "\n",
    "if coords == 'cyll':\n",
    "    detg = simplify(G.det())"
   ]
  },
  {
   "cell_type": "code",
   "execution_count": 5,
   "metadata": {},
   "outputs": [],
   "source": [
    "Y  = simplify(Y)\n",
    "iY = simplify(iY)\n",
    "\n",
    "if coords == 'cart':\n",
    "    dety = simplify(expand_trig(Y.det()))\n",
    "if coords == 'cyll':\n",
    "    dety = simplify(Y.det())"
   ]
  },
  {
   "cell_type": "markdown",
   "metadata": {},
   "source": [
    "Definition of the coordinates to use as symbolic variables."
   ]
  },
  {
   "cell_type": "code",
   "execution_count": 6,
   "metadata": {},
   "outputs": [],
   "source": [
    "if coords == 'cart':\n",
    "    t, x, y,z = symbols('t, x, y, z', real = True) # define some symbolic variables\n",
    "    X = Coordinates('X',[t, x, y, z]) \n",
    "elif coords == 'cyll':\n",
    "    t, R, z, phi = symbols('t, R, z, phi', real = True)\n",
    "    X = Coordinates('X',[t,R,z,phi])  \n",
    "elif coords == 'sphr':\n",
    "    X = Coordinates('X',[t,r,theta,phi])"
   ]
  },
  {
   "cell_type": "markdown",
   "metadata": {},
   "source": [
    "Converting $(r,\\theta,\\phi) \\rightarrow (x,y,z)$ or $(R,z,\\phi)$."
   ]
  },
  {
   "cell_type": "code",
   "execution_count": 7,
   "metadata": {},
   "outputs": [],
   "source": [
    "if coords == 'cart':\n",
    "    G = expand_trig(G)\n",
    "    G = G.replace(sin(phi),y/(r*sin(theta)))\n",
    "    G = G.replace(cos(phi),x/(r*sin(theta)))\n",
    "    G = G.replace(cos(theta),z/r)\n",
    "    G = G.replace(sin(theta)**2,1 - z**2/r**2)\n",
    "    G = simplify(G)\n",
    "    G = factor(G)\n",
    "    G = G.replace(r**2,x**2 + y**2 + z**2)\n",
    "    G = simplify(G)\n",
    "    G = G.replace(r,sqrt(x**2 + y**2 + z**2))\n",
    "    G = simplify(G)\n",
    "    \n",
    "    iG = expand_trig(iG)\n",
    "    iG = iG.replace(sin(phi),y/(r*sin(theta)))\n",
    "    iG = iG.replace(cos(phi),x/(r*sin(theta)))\n",
    "    iG = iG.replace(cos(theta),z/r)\n",
    "    iG = iG.replace(sin(theta)**2,1 - z**2/r**2)\n",
    "    iG = iG.replace(r,sqrt(x**2 + y**2 + z**2))\n",
    "    iG = simplify(iG)\n",
    "\n",
    "    Y = expand_trig(Y)\n",
    "    Y = Y.replace(sin(phi),y/(r*sin(theta)))\n",
    "    Y = Y.replace(cos(phi),x/(r*sin(theta)))\n",
    "    Y = Y.replace(cos(theta),z/r)\n",
    "    Y = Y.replace(sin(theta)**2,1 - z**2/r**2)\n",
    "    Y = simplify(Y)\n",
    "    Y = factor(Y)\n",
    "    Y = Y.replace(r**2,x**2 + y**2 + z**2)\n",
    "    Y = simplify(Y)\n",
    "\n",
    "    iY = expand_trig(iY)\n",
    "    iY = iY.replace(sin(phi),y/(r*sin(theta)))\n",
    "    iY = iY.replace(cos(phi),x/(r*sin(theta)))\n",
    "    iY = iY.replace(sin(theta)**2,1 - z**2/r**2)\n",
    "    iY = iY.replace(cos(theta),z/r)\n",
    "    iY = simplify(iY)\n",
    "    iY = factor(iY)\n",
    "    iY = iY.replace(r**2,x**2 + y**2 + z**2)\n",
    "    iY = simplify(iY)\n",
    "    \n",
    "    detg = simplify(G.det())\n",
    "    detg = simplify(detg)\n",
    "    detg = detg.replace(x**2 + y**2 + z**2,r**2)\n",
    "\n",
    "elif coords == 'cyll':\n",
    "    G = expand_trig(G)\n",
    "    G = G.replace(sin(theta),R/r)\n",
    "    G = G.replace(cos(theta),z/r)\n",
    "    G = G.replace(sin(2*theta),R*z/r**2)\n",
    "    G = G.replace(r,sqrt(R**2 + z**2))\n",
    "    G = simplify(G)\n",
    "\n",
    "    iG = iG.replace(sin(theta),R/r)\n",
    "    iG = iG.replace(cos(theta),z/r)\n",
    "    iG = iG.replace(sin(2*theta),R*z/r**2)\n",
    "    iG = iG.replace(r,sqrt(R**2 + z**2))\n",
    "    iG = simplify(iG)\n",
    "\n",
    "    Y = expand_trig(Y)\n",
    "    Y = Y.replace(sin(theta),R/r)\n",
    "    Y = Y.replace(cos(theta),z/r)\n",
    "    Y = Y.replace(sin(2*theta),R*z/r**2)\n",
    "    Y = simplify(Y)\n",
    "\n",
    "    iY = expand_trig(iY)\n",
    "    iY = iY.replace(sin(theta),R/r)\n",
    "    iY = iY.replace(cos(theta),z/r)\n",
    "    iY = iY.replace(sin(2*theta),R*z/r**2)\n",
    "    iY = simplify(iY)\n",
    "\n",
    "    detg = detg.replace(sin(theta),R/r)\n",
    "    detg = detg.replace(cos(theta),z/r)\n",
    "\n",
    "    dety = dety.replace(sin(theta),R/r)\n",
    "    dety = dety.replace(cos(theta),z/r) "
   ]
  },
  {
   "cell_type": "code",
   "execution_count": 8,
   "metadata": {},
   "outputs": [
    {
     "data": {
      "image/png": "[encoded data removed]",
      "text/latex": [
       "$$\\left[\\begin{matrix}\\frac{2 M y^{2} + 2 M z^{2} - r^{3}}{r^{2} \\left(2 M - r\\right)} & \\frac{2 M x y}{r^{2} \\left(- 2 M + r\\right)} & \\frac{2 M x z}{r^{2} \\left(- 2 M + r\\right)}\\\\\\frac{2 M x y}{r^{2} \\left(- 2 M + r\\right)} & \\frac{- 2 M x^{2} - 2 M z^{2} + r^{3}}{r^{2} \\left(- 2 M + r\\right)} & \\frac{2 M y z}{r^{2} \\left(- 2 M + r\\right)}\\\\\\frac{2 M x z}{r^{2} \\left(- 2 M + r\\right)} & \\frac{2 M y z}{r^{2} \\left(- 2 M + r\\right)} & \\frac{- 2 M x^{2} - 2 M y^{2} + r^{3}}{r^{2} \\left(- 2 M + r\\right)}\\end{matrix}\\right]$$"
      ],
      "text/plain": [
       "⎡     2        2    3                                                ⎤\n",
       "⎢2⋅M⋅y  + 2⋅M⋅z  - r          2⋅M⋅x⋅y                 2⋅M⋅x⋅z        ⎥\n",
       "⎢────────────────────      ─────────────           ─────────────     ⎥\n",
       "⎢     2                     2                       2                ⎥\n",
       "⎢    r ⋅(2⋅M - r)          r ⋅(-2⋅M + r)           r ⋅(-2⋅M + r)     ⎥\n",
       "⎢                                                                    ⎥\n",
       "⎢                             2        2    3                        ⎥\n",
       "⎢      2⋅M⋅x⋅y         - 2⋅M⋅x  - 2⋅M⋅z  + r          2⋅M⋅y⋅z        ⎥\n",
       "⎢   ─────────────      ──────────────────────      ─────────────     ⎥\n",
       "⎢    2                      2                       2                ⎥\n",
       "⎢   r ⋅(-2⋅M + r)          r ⋅(-2⋅M + r)           r ⋅(-2⋅M + r)     ⎥\n",
       "⎢                                                                    ⎥\n",
       "⎢                                                     2        2    3⎥\n",
       "⎢      2⋅M⋅x⋅z                2⋅M⋅y⋅z          - 2⋅M⋅x  - 2⋅M⋅y  + r ⎥\n",
       "⎢   ─────────────          ─────────────       ──────────────────────⎥\n",
       "⎢    2                      2                       2                ⎥\n",
       "⎣   r ⋅(-2⋅M + r)          r ⋅(-2⋅M + r)           r ⋅(-2⋅M + r)     ⎦"
      ]
     },
     "execution_count": 8,
     "metadata": {},
     "output_type": "execute_result"
    }
   ],
   "source": [
    "Y"
   ]
  },
  {
   "cell_type": "markdown",
   "metadata": {},
   "source": [
    "Define **g_cov**$= g_{\\mu \\nu}$, **g_con**$= g^{\\mu \\nu}$, **y_cov**$= \\gamma_{ij}$ and **y_con**$= \\gamma^{ij}$.\n",
    "We mantain the definition of $r^2 = x^2 + y^2 + z^2$ or $r^2 = R^2 + z^2$, in order to save space."
   ]
  },
  {
   "cell_type": "code",
   "execution_count": 9,
   "metadata": {},
   "outputs": [],
   "source": [
    "g_cov = G\n",
    "g_con = iG"
   ]
  },
  {
   "cell_type": "code",
   "execution_count": 10,
   "metadata": {},
   "outputs": [],
   "source": [
    "y_cov = Y\n",
    "y_con = iY\n",
    "\n",
    "if coords == 'cart':\n",
    "    y_cov = y_cov.replace(x**2 + y**2 + z**2, r**2)\n",
    "    y_cov = simplify(y_cov)\n",
    "    y_cov = factor(y_cov)\n",
    "    y_cov = y_cov.replace(2*M*r**2 - 2*M*y**2 - 2*M*z**2 + r**3,2*M*x**2 + r**3 )\n",
    "    y_cov = simplify(y_cov)\n",
    "    y_cov = y_cov.replace(2*M*r**2 - 2*M*y**2 - 2*M*z**2 + r**3,2*M*x**2 + r**3 )\n",
    "    y_cov = simplify(y_cov)\n",
    "    y_cov = y_cov.replace(2*M*y**2 + 2*M*z**2 - r**3,2*M*r**2 - 2*M*x**2 - r**3 )\n",
    "    y_cov = simplify(y_cov)\n",
    "    \n",
    "    y_con = y_con.replace(x**2 + y**2 + z**2, r**2)\n",
    "    y_con = simplify(y_con)\n",
    "    y_con = y_con.replace(x**2 + y**2, r**2 - z**2)\n",
    "    y_con = simplify(y_con)\n",
    "    y_con = factor(y_con)\n",
    "    y_con = y_con.replace(-2*M*r**2 + 2*M*y**2 + 2*M*z**2 + r**3,-2*M*x**2 + r**3 )\n",
    "    y_con = simplify(y_con)\n",
    "    y_con = y_con.replace(2*M*y**2 + 2*M*z**2 + r**3,2*M*r**2 - 2*M*x**2 + r**3 )\n",
    "\n",
    "elif coords == 'cyll':\n",
    "    y_cov = y_cov.replace(R**2 + z**2, r**2)\n",
    "    y_cov = simplify(y_cov)\n",
    "    y_con = y_con.replace(R**2 + z**2, r**2)\n",
    "    y_con = simplify(y_con)"
   ]
  },
  {
   "cell_type": "markdown",
   "metadata": {},
   "source": [
    "## Define 3+1 gauge functions\n",
    "\n",
    "In the 3+1 formalism, the general metric is written as\n",
    "$$\\mathrm{d}s^2 = -\\left( \\alpha^2 - \\beta_i \\beta^i \\right) \\mathrm{d}t^2 + 2\\beta_i \\mathrm{d}t \\mathrm{d}x^i + \\gamma_{ij} \\mathrm{d}x^i \\mathrm{d}x^j,$$\n",
    "where $\\alpha$ is the *lapse function*, $\\beta_i$ is the 3D-shift vector and, as was already defined, $\\gamma_{ij}$ is the 3D-metric.\n",
    "\n",
    "By comparing with $g_{\\mu \\nu}$, is easy to show that\n",
    "$$\\alpha = - \\frac{\\mathrm{det}(g)}{\\mathrm{det}(\\gamma)}$$,\n",
    "and\n",
    "$$ \\beta_i = g_{0i}$$.\n",
    "\n",
    "It is important to say that three-dimensional vector indices are contracted with $\\gamma_{ij}$, i.e., $\\beta^i = \\gamma^{ij} \\beta_j$."
   ]
  },
  {
   "cell_type": "code",
   "execution_count": 11,
   "metadata": {},
   "outputs": [],
   "source": [
    "a2  = cancel(detg/dety)\n",
    "a   = sqrt(-a2)\n",
    "ia2 = cancel(1/a2)\n",
    "ia  = sqrt(-ia2)\n",
    "\n",
    "#Bv0, Bv1, Bv2 = symbols('Bc0, Bc1, Bc2', real = True)\n",
    "#Bn0, Bn1, Bn2 = symbols('Bn0, Bn1, Bn2', real = True)\n",
    "\n",
    "#B_cov = Matrix([Bv0,Bv1,Bv2])\n",
    "#B_con = Matrix([Bn0,Bn1,Bn2])\n",
    "B_cov = G[0,1:4]\n",
    "B_con = y_con * B_cov.T"
   ]
  },
  {
   "cell_type": "code",
   "execution_count": 12,
   "metadata": {},
   "outputs": [],
   "source": [
    "if coords == 'cart':\n",
    "    B_cov = B_cov.replace(x**2 + y**2 + z**2,r**2)\n",
    "    B_con = B_con.replace(r**2,x**2 + y**2 + z**2)\n",
    "    B_con = factor(B_con)\n",
    "    B_con = simplify(B_con)\n",
    "    B_con = B_con.replace(x**2 + y**2 + z**2,r**2)\n",
    "elif coords == 'cyll':\n",
    "    B_cov = B_cov.replace(R**2 + z**2,r**2)\n",
    "    B_cov = simplify(B_cov)\n",
    "    B_con = B_con.replace(R**2 + z**2,r**2)\n",
    "    B_con = simplify(B_con)"
   ]
  },
  {
   "cell_type": "markdown",
   "metadata": {},
   "source": [
    "## 3D- Velocity\n",
    "\n",
    "Here we define the 3D velocity $v_i = (u,v,w)$, which corresponds to $(v_x = \\dot{x}, v_y = \\dot{y}, v_z = \\dot{z})$, $(v_R = \\dot{R}, v_z = \\dot{z}, v_\\phi = R\\dot{\\phi})$ and $(v_r = \\dot{r}, v_\\theta = r\\dot{\\theta}, v_\\phi = r\\sin \\theta \\dot{\\phi})$ for the cartesian, cylindrical and spherical coordinate systems, respectively.\n",
    "\n",
    "We also define the symbolic momentum 3D-vector $m_i = (m,n,o)$."
   ]
  },
  {
   "cell_type": "code",
   "execution_count": 13,
   "metadata": {},
   "outputs": [],
   "source": [
    "u, v, w = symbols('u, v, w')\n",
    "m, n, o         = symbols('m, n, o')\n",
    "\n",
    "V_cov = Matrix([u,v,w])\n",
    "V_con = Matrix([0,0,0])\n",
    "\n",
    "V_con = y_con * V_cov\n",
    "\n",
    "VV = V_cov.T * V_con\n",
    "\n",
    "m_cov = Matrix([m,n,o])\n",
    "m_con = Matrix([0,0,0])\n",
    "\n",
    "m_con = y_con * m_cov\n",
    "\n",
    "mm = m_cov.T * m_con"
   ]
  },
  {
   "cell_type": "code",
   "execution_count": 14,
   "metadata": {},
   "outputs": [],
   "source": [
    "if coords == 'cart':\n",
    "    V_cov = V_cov.replace(x**2 + y**2 + z**2,r**2)\n",
    "    V_con = V_con.replace(x**2 + y**2 + z**2,r**2)\n",
    "    \n",
    "    V_con = V_con.replace(-2*M*r**2 + 2*M*y**2 + 2*M*z**2,- 2*M*x**2)\n",
    "\n",
    "elif coords == 'cyll':\n",
    "    V_cov = V_cov.replace(R**2 + z**2,r**2)\n",
    "    V_cov = simplify(V_cov)\n",
    "    V_con = V_con.replace(R**2 + z**2,r**2)\n",
    "    V_con = simplify(V_con)"
   ]
  },
  {
   "cell_type": "markdown",
   "metadata": {},
   "source": [
    "Here we define the symbolic *Lorentz factor* $W$ and the 4-velocity\n",
    "$$U^\\mu = \\left[ \\frac{W}{\\alpha}, W \\left( v^i - \\frac{\\beta^i}{\\alpha} \\right) \\right],$$\n",
    "where\n",
    "$$W = \\frac{1}{\\sqrt{1 - \\gamma_{ij}v^i v^j}}.$$\n",
    "\n",
    "For now, in order to avoid carrying extra terms, we leave $W$ just as a symbolic variable, later on we define it properly."
   ]
  },
  {
   "cell_type": "code",
   "execution_count": 15,
   "metadata": {},
   "outputs": [],
   "source": [
    "W  = symbols('W',positive = True, real = True)\n",
    "  \n",
    "U_con = Matrix([0,0,0,0])\n",
    "U_con[0] = W*ia\n",
    "for i in range(0,3):\n",
    "    U_con[i+1] = W*(V_con[i] - B_con[i]*ia)"
   ]
  },
  {
   "cell_type": "code",
   "execution_count": 16,
   "metadata": {},
   "outputs": [],
   "source": [
    "if coords == 'cart':\n",
    "    U_con = U_con.replace(x**2 + y**2 + z**2,r**2)\n",
    "elif coords == 'cyll':\n",
    "    U_con = U_con.replace(R**2 + z**2,r**2)"
   ]
  },
  {
   "cell_type": "markdown",
   "metadata": {},
   "source": [
    "## Energy-Momentum Tensor\n",
    "\n",
    "We define the energy-momentum tensor as (*Landau & Lifshitz*):\n",
    "$$T^{\\mu \\nu} = \\rho h U^\\mu U^\\nu + p g^{\\mu \\nu},$$\n",
    "where $\\rho$ is the rest mass density, $p$ is the gas pressure and $h$ is the specific relativistic enthalpy\n",
    "$$h = 1 + \\epsilon + \\frac{p}{\\rho},$$\n",
    "where $\\epsilon$ is the specific internal energy.\n",
    "\n",
    "All hydrodynamic variable are measured at the laboratory rest frame. The specific internal energy is defined by choosing an Equation of State.\n",
    "\n",
    "For an ideal gas under an polytropic process\n",
    "$$\\epsilon = \\frac{p}{\\rho (\\Gamma - 1)},$$\n",
    "where $\\Gamma$ is the polytropic index.\n",
    "\n",
    "- $\\Gamma = 1 \\rightarrow$ Isothermal gas.\n",
    "- $\\Gamma = 4/3 \\rightarrow$ Ultra relativistic gas (photons).\n",
    "- $\\Gamma = 5/3 \\rightarrow$ Monoatomic gas.\n",
    "- $\\Gamma = 7/5 \\rightarrow$ Diatomic gas.\n",
    "\n",
    "The energy-momentum tensor components are defined as symbolic variables, in order to mantain small expressions for the fluxes and the sources."
   ]
  },
  {
   "cell_type": "code",
   "execution_count": 17,
   "metadata": {},
   "outputs": [],
   "source": [
    "rho, p, h = symbols('rho, p, h',real = True)\n",
    "T00, T01, T02, T03 = symbols('T00, T01, T02, T03', real = True)\n",
    "T10, T11, T12, T13 = symbols('T10, T11, T12, T13', real = True)\n",
    "T20, T21, T22, T23 = symbols('T20, T21, T22, T23', real = True)\n",
    "T30, T31, T32, T33 = symbols('T30, T31, T32, T33', real = True)\n",
    "\n",
    "T10 = T01\n",
    "T20 = T02\n",
    "T30 = T03\n",
    "\n",
    "T21 = T12\n",
    "T31 = T13\n",
    "\n",
    "T32 = T23\n",
    "\n",
    "T_con = Matrix([[T00,T01,T02,T03],[T10,T11,T12,T13],[T20,T21,T22,T23],[T30,T31,T32,T33]])\n",
    "\n",
    "T = Matrix([[0,0,0,0],[0,0,0,0],[0,0,0,0],[0,0,0,0]])\n",
    "\n",
    "for i in range(0,4):\n",
    "    for j in range(0,4):\n",
    "        T[i,j] = rho * h * U_con[i] * U_con[j] + p * g_con[i,j]\n",
    "        T[i,j] = simplify(T[i,j])"
   ]
  },
  {
   "cell_type": "markdown",
   "metadata": {},
   "source": [
    "## Christoffel symbols\n",
    "\n",
    "Even though Python has packages for tensor manipulation, it is convenient to mantain them as matrixes with *sympy*.\n",
    "\n",
    "Here we define the second kind Christoffel symbols needed for the sources terms.\n",
    "$$\\Gamma^\\lambda_{\\mu \\nu} = \\frac{1}{2} g^{\\lambda \\sigma} \\left( g_{\\sigma \\mu , \\nu} + g_{\\sigma \\nu, \\mu} - g_{\\mu \\nu, \\sigma} \\right),$$\n",
    "\n",
    "where \n",
    "$$g_{\\mu \\nu,\\sigma} = \\frac{\\partial g_{\\mu \\nu}}{\\partial x^{\\sigma}}.$$\n",
    "\n",
    "We are adopting here the Einstein summation convention for the index contraction."
   ]
  },
  {
   "cell_type": "code",
   "execution_count": 18,
   "metadata": {},
   "outputs": [],
   "source": [
    "Gamma0 = Matrix([[0,0,0,0],[0,0,0,0],[0,0,0,0],[0,0,0,0]])\n",
    "Gamma1 = Matrix([[0,0,0,0],[0,0,0,0],[0,0,0,0],[0,0,0,0]])\n",
    "Gamma2 = Matrix([[0,0,0,0],[0,0,0,0],[0,0,0,0],[0,0,0,0]])\n",
    "Gamma3 = Matrix([[0,0,0,0],[0,0,0,0],[0,0,0,0],[0,0,0,0]])\n",
    "\n",
    "    \n",
    "for k in range(0,4):\n",
    "    for l in range(0,4):\n",
    "        Gamma0[k,l] = sum(g_con[0,m] * (diff(g_cov[m,k],X(-l-1)) + diff(g_cov[m,l],X(-k-1)) - diff(g_cov[k,l],X(-m-1))) for m in range(0,4))/2\n",
    "        Gamma1[k,l] = sum(g_con[1,m] * (diff(g_cov[m,k],X(-l-1)) + diff(g_cov[m,l],X(-k-1)) - diff(g_cov[k,l],X(-m-1))) for m in range(0,4))/2\n",
    "        Gamma2[k,l] = sum(g_con[2,m] * (diff(g_cov[m,k],X(-l-1)) + diff(g_cov[m,l],X(-k-1)) - diff(g_cov[k,l],X(-m-1))) for m in range(0,4))/2\n",
    "        Gamma3[k,l] = sum(g_con[3,m] * (diff(g_cov[m,k],X(-l-1)) + diff(g_cov[m,l],X(-k-1)) - diff(g_cov[k,l],X(-m-1))) for m in range(0,4))/2"
   ]
  },
  {
   "cell_type": "code",
   "execution_count": null,
   "metadata": {},
   "outputs": [],
   "source": [
    "if coords == 'cart':\n",
    "    Gamma0 = Gamma0.replace(x**2 + y**2 + z**2,r**2)\n",
    "    Gamma1 = Gamma1.replace(x**2 + y**2 + z**2,r**2)\n",
    "    Gamma2 = Gamma2.replace(x**2 + y**2 + z**2,r**2)\n",
    "    Gamma3 = Gamma3.replace(x**2 + y**2 + z**2,r**2)\n",
    "    \n",
    "    Gamma0 = Gamma0.replace(2*M*x**2 + 2*M*y**2 + 2*M*z**2 - r**3,2*M*r**2 - r**3)\n",
    "    Gamma1 = Gamma1.replace(2*M*x**2 + 2*M*y**2 + 2*M*z**2 - r**3,2*M*r**2 - r**3)\n",
    "    Gamma2 = Gamma2.replace(2*M*x**2 + 2*M*y**2 + 2*M*z**2 - r**3,2*M*r**2 - r**3)\n",
    "    Gamma3 = Gamma3.replace(2*M*x**2 + 2*M*y**2 + 2*M*z**2 - r**3,2*M*r**2 - r**3)\n",
    "    \n",
    "elif coords == 'cyll':\n",
    "    Gamma0 = Gamma0.replace(R**2 + z**2,r**2)\n",
    "    Gamma1 = Gamma1.replace(R**2 + z**2,r**2)\n",
    "    Gamma2 = Gamma2.replace(R**2 + z**2,r**2)\n",
    "    Gamma3 = Gamma3.replace(R**2 + z**2,r**2)\n",
    "    \n",
    "    Gamma0 = Gamma0.replace(R**4 + 2*R**2*z**2 + z**4,r**4)\n",
    "    Gamma1 = Gamma1.replace(R**4 + 2*R**2*z**2 + z**4,r**4)\n",
    "    Gamma2 = Gamma2.replace(R**4 + 2*R**2*z**2 + z**4,r**4)\n",
    "    Gamma3 = Gamma3.replace(R**4 + 2*R**2*z**2 + z**4,r**4)"
   ]
  },
  {
   "cell_type": "code",
   "execution_count": null,
   "metadata": {},
   "outputs": [],
   "source": [
    "if coords == 'cart':\n",
    "    Gamma0 = simplify(Gamma0)\n",
    "    Gamma1 = simplify(Gamma1)\n",
    "    Gamma2 = simplify(Gamma2)\n",
    "    Gamma3 = simplify(Gamma3)\n",
    "elif coords == 'cyll':\n",
    "    Gamma0 = simplify(Gamma0)\n",
    "    Gamma1 = simplify(Gamma1)\n",
    "    Gamma2 = simplify(Gamma2)\n",
    "    Gamma3 = simplify(Gamma3)"
   ]
  },
  {
   "cell_type": "markdown",
   "metadata": {},
   "source": [
    "## Source terms\n",
    "\n",
    "In this section we define the source terms in the 3+1 formalism. We create two vectors\n",
    "$$S^\\nu = \\alpha \\left( T^{\\mu \\nu} \\ln \\alpha_{,\\mu} - T^{\\mu \\sigma} \\Gamma^{\\nu}_{\\mu \\sigma} \\right),$$\n",
    "\n",
    "from which we only use the $S^0$ component as the energy equation source term.\n",
    "\n",
    "And we define\n",
    "$$SS_\\mu = T^{\\nu \\sigma} \\left( g_{\\sigma \\mu, \\nu} - \\Gamma^\\delta_{\\nu \\sigma} g_{\\delta \\mu}\\right),$$\n",
    "\n",
    "from which we only use the $SS_1$, $SS_2$ and $SS_3$ components for the momentum equation source terms."
   ]
  },
  {
   "cell_type": "code",
   "execution_count": null,
   "metadata": {},
   "outputs": [],
   "source": [
    "da = Matrix([[0,0,0,0]])\n",
    "for i in range(1,5):\n",
    "    loga = log(a)\n",
    "    if coords == 'cart':\n",
    "        loga = loga.replace(r,sqrt(x**2 + y**2 + z**2))\n",
    "    elif coords == 'cyll':\n",
    "        loga = loga.replace(r,sqrt(R**2 + z**2))\n",
    "    da[i-1] = simplify(diff(loga,X(-i)))\n",
    "\n",
    "if coords == 'cart':\n",
    "    da = da.replace(x**2 + y**2 + z**2,r**2)\n",
    "elif coords == 'cyll':\n",
    "    da = da.replace(R**2 + z**2,r**2)\n",
    "\n",
    "S    = Matrix([[0,0,0,0]])\n",
    "Tda  = Matrix([[0,0,0,0]])\n",
    "GamT = Matrix([[0,0,0,0]])\n",
    "\n",
    "GamT[0] = sum(Gamma0[j,k]*T_con[j,k] for j,k in list(variations(range(0,4),2,True)))\n",
    "GamT[1] = sum(Gamma1[j,k]*T_con[j,k] for j,k in list(variations(range(0,4),2,True)))\n",
    "GamT[2] = sum(Gamma2[j,k]*T_con[j,k] for j,k in list(variations(range(0,4),2,True)))\n",
    "GamT[3] = sum(Gamma3[j,k]*T_con[j,k] for j,k in list(variations(range(0,4),2,True)))\n",
    "\n",
    "for i in range(0,4):\n",
    "    GamT[i] = GamT[i]\n",
    "    Tda[i] = sum(T_con[i,j]*da[j] for j in range(0,4))\n",
    "    Tda[i] = simplify(Tda[i])\n",
    "    S[i] = a*(Tda[i] - GamT[i])\n",
    "\n",
    "SS = Matrix([[0,0,0,0]])\n",
    "gGamT = Matrix([[0,0,0,0]])\n",
    "dgT   = Matrix([[0,0,0,0]])\n",
    "\n",
    "for i in range(0,4):\n",
    "    gGamT[i] = sum(g_cov[i,j]*GamT[j] for j in range(0,4))\n",
    "    gGamT[i] = gGamT[i]\n",
    "    dgT[i] = sum(T_con[j,k]*diff(g_cov[i,k],X(-j-1)) for j,k in list(variations(range(0,4),2,True)))\n",
    "    SS[i] = dgT[i] - gGamT[i]\n",
    "\n",
    "if coords == 'cart':\n",
    "    S  = S.replace(x**2 + y**2 + z**2,r**2)\n",
    "    S  = factor(S)\n",
    "    SS = SS.replace(x**2 + y**2 + z**2,r**2) \n",
    "    SS = factor(SS)\n",
    "elif coords == 'cyll':\n",
    "    S  = S.replace(R**2 + z**2,r**2)\n",
    "    S  = simplify(S)\n",
    "    SS = SS.replace(R**2 + z**2,r**2)\n",
    "    SS = simplify(SS)\n",
    "elif coords == 'sphr':\n",
    "    S  = expand_trig(S)\n",
    "    SS = expand_trig(SS)"
   ]
  },
  {
   "cell_type": "markdown",
   "metadata": {},
   "source": [
    "## Conservative variables\n",
    "\n",
    "Definition of the conservative variables \n",
    "$$D = \\rho W,$$\n",
    "$$E = D h W,$$\n",
    "$$M_1 = D h W v_1,$$\n",
    "$$M_2 = D h W v_2,$$\n",
    "$$M_3 = D h W v_3.$$"
   ]
  },
  {
   "cell_type": "code",
   "execution_count": null,
   "metadata": {},
   "outputs": [],
   "source": [
    "D   = rho*W\n",
    "E   = D*h*W - p\n",
    "Mv1 = D*h*W*V_cov[0]\n",
    "Mv2 = D*h*W*V_cov[1]\n",
    "Mv3 = D*h*W*V_cov[2]\n",
    "b1  = 0\n",
    "b2  = 0\n",
    "b3  = 0"
   ]
  },
  {
   "cell_type": "code",
   "execution_count": null,
   "metadata": {},
   "outputs": [],
   "source": [
    "q = Matrix([[0,0,0,0,0,0,0,0]])\n",
    "f = Matrix([[0,0,0,0,0,0,0,0]])\n",
    "g = Matrix([[0,0,0,0,0,0,0,0]])\n",
    "h = Matrix([[0,0,0,0,0,0,0,0]])\n",
    "s = Matrix([[0,0,0,0,0,0,0,0]])\n",
    "\n",
    "q[0] = simplify(E)\n",
    "q[1] = simplify(Mv1)\n",
    "q[2] = simplify(Mv2)\n",
    "q[3] = simplify(Mv3)\n",
    "q[4] = simplify(b1)\n",
    "q[5] = simplify(b2)\n",
    "q[6] = simplify(b3)\n",
    "q[7] = simplify(D)"
   ]
  },
  {
   "cell_type": "markdown",
   "metadata": {},
   "source": [
    "## Fluxes\n",
    "\n",
    "The fluxes along the three dimensional space directions $i = 1,2,3$, are define as:\n",
    "\n",
    "$$\\mathbf{F}^i = \\left[ D \\left( v^i - \\frac{\\beta^i}{\\alpha} \\right), E\\left( v^i - \\frac{\\beta^i}{\\alpha} \\right) + p v^i, M_j \\left( v^i - \\frac{\\beta^i}{\\alpha} \\right) + p\\delta^i_j \\right]^T.$$"
   ]
  },
  {
   "cell_type": "code",
   "execution_count": null,
   "metadata": {},
   "outputs": [],
   "source": [
    "f[0] = simplify(E*(V_con[0] - B_con[0]/a) + p*V_con[0])\n",
    "f[1] = Mv1*(V_con[0] - B_con[0]/a) + p\n",
    "f[2] = Mv2*(V_con[0] - B_con[0]/a)\n",
    "f[3] = Mv3*(V_con[0] - B_con[0]/a)\n",
    "f[4] = 0\n",
    "f[5] = 0\n",
    "f[6] = 0\n",
    "f[7] = D*(V_con[0] - B_con[0]/a)"
   ]
  },
  {
   "cell_type": "code",
   "execution_count": null,
   "metadata": {},
   "outputs": [],
   "source": [
    "g[0] = E*(V_con[1] - B_con[1]/a) + p*V_con[1]\n",
    "g[1] = Mv1*(V_con[1] - B_con[1]/a)\n",
    "g[2] = Mv2*(V_con[1] - B_con[1]/a) + p\n",
    "g[3] = Mv3*(V_con[1] - B_con[1]/a)\n",
    "g[4] = 0\n",
    "g[5] = 0\n",
    "g[6] = 0\n",
    "g[7] = D*(V_con[1] - B_con[1]/a)"
   ]
  },
  {
   "cell_type": "code",
   "execution_count": null,
   "metadata": {},
   "outputs": [],
   "source": [
    "h[0] = E*(V_con[2] - B_con[2]/a) + p*V_con[2]\n",
    "h[1] = Mv1*(V_con[2] - B_con[2]/a)\n",
    "h[2] = Mv2*(V_con[2] - B_con[2]/a)\n",
    "h[3] = Mv3*(V_con[2] - B_con[2]/a) + p\n",
    "h[4] = 0\n",
    "h[5] = 0\n",
    "h[6] = 0\n",
    "h[7] = D*(V_con[2] - B_con[2]/a)"
   ]
  },
  {
   "cell_type": "markdown",
   "metadata": {},
   "source": [
    "## Source terms\n",
    "\n",
    "$$\\mathbf{S} = \\left[ 0, \\alpha \\left( T^{\\mu 0} \\frac{\\partial \\ln \\alpha}{\\partial x^\\mu} - T^{\\mu \\nu} \\Gamma^{0}_{\\mu \\nu} \\right), T^{\\mu \\nu} \\left( \\frac{\\partial g_{\\nu j}}{\\partial x^\\mu} - \\Gamma^\\delta_{\\mu \\nu} g_{\\delta j} \\right) \\right].$$"
   ]
  },
  {
   "cell_type": "code",
   "execution_count": null,
   "metadata": {},
   "outputs": [],
   "source": [
    "s[0] = S[0]\n",
    "s[1] = SS[1]\n",
    "s[2] = SS[2]\n",
    "s[3] = SS[3]\n",
    "s[4] = 0\n",
    "s[5] = 0\n",
    "s[6] = 0\n",
    "s[7] = 0"
   ]
  },
  {
   "cell_type": "markdown",
   "metadata": {},
   "source": [
    "## Import to .txt\n",
    "\n",
    "In this section, we import all variables to a .txt format."
   ]
  },
  {
   "cell_type": "code",
   "execution_count": null,
   "metadata": {},
   "outputs": [],
   "source": [
    "import os\n",
    "\n",
    "file = open(\"conservative-\"+metric+\"-\"+coords+\".txt\",\"w\")\n",
    "\n",
    "for i in range(0,8):\n",
    "    file.write(\"%s\\n\" % str(N(q[i])))\n",
    "    \n",
    "file.close()\n",
    "\n",
    "file = open(\"fluxes1-\"+metric+\"-\"+coords+\".txt\",\"w\")\n",
    "\n",
    "for i in range(0,8):\n",
    "    file.write(\"%s\\n\" % str(N(f[i])))\n",
    "    \n",
    "file.close()\n",
    "\n",
    "file = open(\"fluxes2-\"+metric+\"-\"+coords+\".txt\",\"w\")\n",
    "\n",
    "for i in range(0,8):\n",
    "    file.write(\"%s\\n\" % str(N(g[i])))\n",
    "    \n",
    "file.close()\n",
    "\n",
    "file = open(\"fluxes3-\"+metric+\"-\"+coords+\".txt\",\"w\")\n",
    "\n",
    "for i in range(0,8):\n",
    "    file.write(\"%s\\n\" % str(N(h[i])))\n",
    "    \n",
    "file.close()\n",
    "\n",
    "file = open(\"sources-\"+metric+\"-\"+coords+\".txt\",\"w\")\n",
    "\n",
    "for i in range(0,8):\n",
    "    file.write(\"%s\\n\" % str(N(s[i])))\n",
    "    \n",
    "file.close()"
   ]
  },
  {
   "cell_type": "code",
   "execution_count": null,
   "metadata": {},
   "outputs": [],
   "source": [
    "file = open(\"tensor-em-\"+metric+\"-\"+coords+\".txt\",\"w\")\n",
    "\n",
    "file.write(\"%s\\n\" % str(N(T[0,0])))\n",
    "file.write(\"%s\\n\" % str(N(T[0,1])))\n",
    "file.write(\"%s\\n\" % str(N(T[0,2])))\n",
    "file.write(\"%s\\n\" % str(N(T[0,3])))\n",
    "file.write(\"%s\\n\" % str(N(T[1,1])))\n",
    "file.write(\"%s\\n\" % str(N(T[1,2])))\n",
    "file.write(\"%s\\n\" % str(N(T[1,3])))\n",
    "file.write(\"%s\\n\" % str(N(T[2,2])))\n",
    "file.write(\"%s\\n\" % str(N(T[2,3])))\n",
    "file.write(\"%s\\n\" % str(N(T[3,3])))\n",
    "\n",
    "file.close()"
   ]
  },
  {
   "cell_type": "code",
   "execution_count": null,
   "metadata": {},
   "outputs": [],
   "source": [
    "file = open(\"gauge-\"+metric+\"-\"+coords+\".txt\",\"w\")\n",
    "\n",
    "file.write(\"%s\\n\" % str(N(a)))\n",
    "file.write(\"%s\\n\" % str(N(sqrt(dety))))\n",
    "file.write(\"%s\\n\" % str(N(sqrt(-detg))))\n",
    "\n",
    "file.close()"
   ]
  },
  {
   "cell_type": "code",
   "execution_count": null,
   "metadata": {},
   "outputs": [],
   "source": [
    "if coords == 'cart':\n",
    "    os.system(\"sed -i 's/(t, x, y, z)//g' *.txt\")\n",
    "    os.system(\"sed -i 's/Abs//g' *.txt\")\n",
    "elif coords == 'cyll':\n",
    "    os.system(\"sed -i 's/(t, R, z, phi)//g' *.txt\")\n",
    "    os.system(\"sed -i 's/Abs//g' *.txt\")\n",
    "elif coords == 'sphr':\n",
    "    os.system(\"sed -i 's/(t, r, theta, phi)//g' *.txt\")\n",
    "    os.system(\"sed -i 's/Abs//g' *.txt\")"
   ]
  }
 ],
 "metadata": {
  "kernelspec": {
   "display_name": "Python 3",
   "language": "python",
   "name": "python3"
  },
  "language_info": {
   "codemirror_mode": {
    "name": "ipython",
    "version": 3
   },
   "file_extension": ".py",
   "mimetype": "text/x-python",
   "name": "python",
   "nbconvert_exporter": "python",
   "pygments_lexer": "ipython3",
   "version": "3.6.5"
  }
 },
 "nbformat": 4,
 "nbformat_minor": 2
}
