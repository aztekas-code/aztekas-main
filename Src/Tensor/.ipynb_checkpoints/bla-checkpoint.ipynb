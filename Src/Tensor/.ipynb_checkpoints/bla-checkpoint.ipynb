{
 "cells": [
  {
   "cell_type": "code",
   "execution_count": 172,
   "metadata": {},
   "outputs": [],
   "source": [
    "from sympy import *\n",
    "from gravipy import *\n",
    "init_printing(use_unicode=True)"
   ]
  },
  {
   "cell_type": "code",
   "execution_count": 173,
   "metadata": {},
   "outputs": [],
   "source": [
    "# Choose metric\n",
    "t = symbols('t', positive = True, real = True)\n",
    "r = symbols('r', positive = True, real = True)\n",
    "theta = symbols('theta', real = True)\n",
    "phi = symbols('phi',positive = True, real = True)\n",
    "metric = 'EF'\n",
    "coords = 'cyll'\n",
    "\n",
    "if metric == 'Mink':\n",
    "    G    = Matrix([[-1,0,0,0],[0,1,0,0],[0,0,r**2,0],[0,0,0,r**2*sin(theta)**2]])\n",
    "    iG   = simplify(G**-1)\n",
    "    detg = G.det()\n",
    "    Y    = G[1:4,1:4]\n",
    "    iY   = iG[1:4,1:4]\n",
    "    dety = Y.det()\n",
    "elif metric == 'Schw':\n",
    "    M    = symbols('M', positive = True, real = True)\n",
    "    G    = Matrix([[-(1 - 2*M/r),0,0,0],[0,1/(1 - 2*M/r),0,0],[0,0,r**2,0],[0,0,0,r**2*sin(theta)**2]])\n",
    "    iG   = simplify(G**-1)\n",
    "    detg = G.det()\n",
    "    Y    = G[1:4,1:4]\n",
    "    iY   = iG[1:4,1:4]\n",
    "    dety = Y.det()\n",
    "elif metric == 'EF':\n",
    "    M    = symbols('M', positive = True, real = True)\n",
    "    G    = Matrix([[-(1 - 2*M/r),2*M/r,0,0],[2*M/r,1 + 2*M/r,0,0],[0,0,r**2,0],[0,0,0,r**2*sin(theta)**2]])\n",
    "    iG   = simplify(G**-1)\n",
    "    detg = G.det()\n",
    "    Y    = G[1:4,1:4]\n",
    "    iY   = iG[1:4,1:4]\n",
    "    dety = Y.det()"
   ]
  },
  {
   "cell_type": "code",
   "execution_count": 174,
   "metadata": {},
   "outputs": [],
   "source": [
    "if coords == 'cart':\n",
    "    t = t\n",
    "    x = r*sin(theta)*cos(phi)\n",
    "    y = r*sin(theta)*sin(phi)\n",
    "    z = r*cos(theta)\n",
    "   \n",
    "    CART = Matrix([t,x,y,z])\n",
    "    SPHR = Matrix([t,r,theta,phi])\n",
    "   \n",
    "    J  = simplify(CART.jacobian(SPHR))\n",
    "    iJ = simplify(J**-1)\n",
    "    \n",
    "    G  = iJ.T * G * iJ\n",
    "    iG = J * iG * J.T\n",
    "    \n",
    "elif coords == 'cyll':\n",
    "    t   = t\n",
    "    R   = r*sin(theta)\n",
    "    z   = r*cos(theta)\n",
    "    phi = phi\n",
    "    \n",
    "    CYLL = Matrix([t,R,z,phi])\n",
    "    SPHR = Matrix([t,r,theta,phi])\n",
    "    \n",
    "    J  = simplify(CYLL.jacobian(SPHR))\n",
    "    iJ = simplify(J**-1)\n",
    "    \n",
    "    G  = iJ.T * G * iJ\n",
    "    iG = J * iG * J.T\n",
    "    \n",
    "    CYLL = Matrix([R,z,phi])\n",
    "    SPHR = Matrix([r,theta,phi])\n",
    "    \n",
    "    J  = simplify(CYLL.jacobian(SPHR))\n",
    "    iJ = simplify(J**-1)\n",
    "    \n",
    "    Y  = iJ.T * Y * iJ\n",
    "    iY = J * iY * J.T    "
   ]
  },
  {
   "cell_type": "code",
   "execution_count": 175,
   "metadata": {},
   "outputs": [],
   "source": [
    "G = simplify(G)\n",
    "iG  = simplify(iG)\n",
    "\n",
    "detg = simplify(G.det())"
   ]
  },
  {
   "cell_type": "code",
   "execution_count": 176,
   "metadata": {},
   "outputs": [],
   "source": [
    "Y  = simplify(Y)\n",
    "iY = simplify(iY)\n",
    "\n",
    "dety = simplify(Y.det())"
   ]
  },
  {
   "cell_type": "code",
   "execution_count": 178,
   "metadata": {},
   "outputs": [],
   "source": [
    "if coords == 'cart':\n",
    "    t, x, y,z = symbols('t, x, y, z', real = True) # define some symbolic variables\n",
    "    X = Coordinates('\\chi',[t, x, y, z]) \n",
    "elif coords == 'cyll':\n",
    "    t, R, z, phi = symbols('t, R, z, phi', real = True)\n",
    "    X = Coordinates('\\chi',[t,R,z,phi])  \n",
    "elif coords == 'sphr':\n",
    "    t, r, theta, phi= symbols('t, r, theta, phi', real = True) # define some symbolic variables\n",
    "    X = Coordinates('\\chi',[t,r,theta,phi])"
   ]
  },
  {
   "cell_type": "code",
   "execution_count": 179,
   "metadata": {},
   "outputs": [],
   "source": [
    "u, v, w, cp, sp, ct, st = symbols('u, v, w, cp, sp, ct, st')\n",
    "\n",
    "if coords == 'cart':\n",
    "    G = trigsimp(G)\n",
    "    G = G.replace(cos(phi),cp)\n",
    "    G = G.replace(sin(phi),sp)\n",
    "    G = G.replace(cos(theta),ct)\n",
    "    G = G.replace(sin(theta),st)\n",
    "    G = G.replace(cp,x/(r*st))\n",
    "    G = G.replace(sp,y/(r*st))\n",
    "    G = G.replace(ct,z/r)\n",
    "    G = G.replace(st**2,1 - z**2/r**2)\n",
    "    G = G.replace(r,sqrt(x**2 + y**2 + z**2))\n",
    "    G = expand_trig(G)\n",
    "    G = G.replace(cos(phi),cp)\n",
    "    G = G.replace(sin(phi),sp)\n",
    "    G = G.replace(cos(theta),z/r)\n",
    "    G = G.replace(sin(theta),st)\n",
    "    G = G.replace(cp,x/(r*st))\n",
    "    G = G.replace(sp,y/(r*st))\n",
    "    G = G.replace(r,sqrt(x**2 + y**2 + z**2))\n",
    "    \n",
    "elif coords == 'cyll':\n",
    "    #G = trigsimp(G)\n",
    "    G = G.replace(sin(theta),R/r)\n",
    "    G = G.replace(cos(theta),z/r)\n",
    "    G = G.replace(sin(2*theta),R*z/r**2)\n",
    "    G = G.replace(r,sqrt(R**2 + z**2))\n",
    "\n",
    "    iG = iG.replace(sin(theta),R/r)\n",
    "    iG = iG.replace(cos(theta),z/r)\n",
    "    iG = iG.replace(sin(2*theta),R*z/r**2)\n",
    "    iG = iG.replace(r,sqrt(R**2 + z**2))\n",
    "\n",
    "    Y = Y.replace(sin(theta),R/r)\n",
    "    Y = Y.replace(cos(theta),z/r)\n",
    "    Y = Y.replace(sin(2*theta),R*z/r**2)\n",
    "    Y = Y.replace(r,sqrt(R**2 + z**2))\n",
    "\n",
    "    iY = iY.replace(sin(theta),R/r)\n",
    "    iY = iY.replace(cos(theta),z/r)\n",
    "    iY = iY.replace(sin(2*theta),R*z/r**2)\n",
    "    iY = iY.replace(r,sqrt(R**2 + z**2))\n",
    "    \n",
    "    detg = detg.replace(sin(theta),R/r)\n",
    "    detg = detg.replace(cos(theta),z/r)\n",
    "\n",
    "    dety = dety.replace(sin(theta),R/r)\n",
    "    dety = dety.replace(cos(theta),z/r)"
   ]
  },
  {
   "cell_type": "code",
   "execution_count": 180,
   "metadata": {},
   "outputs": [],
   "source": [
    "G  = simplify(G)\n",
    "iG = simplify(iG)"
   ]
  },
  {
   "cell_type": "code",
   "execution_count": 181,
   "metadata": {},
   "outputs": [],
   "source": [
    "g_cov = G\n",
    "g_con = iG"
   ]
  },
  {
   "cell_type": "code",
   "execution_count": 184,
   "metadata": {},
   "outputs": [],
   "source": [
    "y_cov = Y\n",
    "y_con = iY\n",
    "\n",
    "if coords == 'cyll':\n",
    "    y_cov = y_cov.replace(R**2 + z**2, r**2)\n",
    "    y_con = y_con.replace(R**2 + z**2, r**2)"
   ]
  },
  {
   "cell_type": "code",
   "execution_count": 185,
   "metadata": {},
   "outputs": [],
   "source": [
    "a2  = cancel(detg/dety)\n",
    "a   = sqrt(-a2)\n",
    "ia2 = cancel(1/a2)\n",
    "ia  = sqrt(-ia2)\n",
    "\n",
    "B_cov = G[0,1:4]\n",
    "B_con = y_con * B_cov.T"
   ]
  },
  {
   "cell_type": "code",
   "execution_count": 188,
   "metadata": {},
   "outputs": [],
   "source": [
    "if coords == 'cyll':\n",
    "    B_cov = B_cov.replace(R**2 + z**2,r**2)\n",
    "    B_con = B_con.replace(R**2 + z**2,r**2)"
   ]
  },
  {
   "cell_type": "code",
   "execution_count": 187,
   "metadata": {},
   "outputs": [
    {
     "data": {
      "image/png": "[encoded data removed]",
      "text/latex": [
       "$$\\frac{\\sqrt{r}}{\\sqrt{2 M + r}}$$"
      ],
      "text/plain": [
       "     √r    \n",
       "───────────\n",
       "  _________\n",
       "╲╱ 2⋅M + r "
      ]
     },
     "execution_count": 187,
     "metadata": {},
     "output_type": "execute_result"
    }
   ],
   "source": [
    "a"
   ]
  },
  {
   "cell_type": "code",
   "execution_count": 189,
   "metadata": {},
   "outputs": [],
   "source": [
    "rho, p, u, v, w = symbols('\\rho, p, u, v, w')\n",
    "m, n, o         = symbols('m, n, o')\n",
    "\n",
    "V_cov = Matrix([u,v,w])\n",
    "V_con = Matrix([0,0,0])\n",
    "\n",
    "V_con = y_con * V_cov\n",
    "\n",
    "VV = V_cov.T * V_con\n",
    "\n",
    "m_cov = Matrix([m,n,o])\n",
    "m_con = Matrix([0,0,0])\n",
    "\n",
    "m_con = y_con * m_cov\n",
    "\n",
    "mm = m_cov.T * m_con"
   ]
  },
  {
   "cell_type": "code",
   "execution_count": 190,
   "metadata": {},
   "outputs": [],
   "source": [
    "if coords == 'cyll':\n",
    "    V_cov = V_cov.replace(R**2 + z**2,r**2)\n",
    "    V_con = V_con.replace(R**2 + z**2,r**2)"
   ]
  },
  {
   "cell_type": "code",
   "execution_count": 191,
   "metadata": {},
   "outputs": [],
   "source": [
    "W  = symbols('W',positive = True, real = True)\n",
    "  \n",
    "U_con = Matrix([0,0,0,0])\n",
    "U_con[0] = W*ia\n",
    "for i in range(0,3):\n",
    "    U_con[i+1] = W*(V_con[i] - B_con[i]*ia)"
   ]
  },
  {
   "cell_type": "code",
   "execution_count": 192,
   "metadata": {},
   "outputs": [],
   "source": [
    "if coords == 'cyll':\n",
    "    U_con = U_con.replace(R**2 + z**2,r**2)"
   ]
  },
  {
   "cell_type": "code",
   "execution_count": 273,
   "metadata": {},
   "outputs": [],
   "source": [
    "h = symbols('h',real = True)\n",
    "T00, T01, T02, T03 = symbols('T00, T01, T02, T03', real = True)\n",
    "T10, T11, T12, T13 = symbols('T10, T11, T12, T13', real = True)\n",
    "T20, T21, T22, T23 = symbols('T20, T21, T22, T23', real = True)\n",
    "T30, T31, T32, T33 = symbols('T30, T31, T32, T33', real = True)\n",
    "\n",
    "T10 = T01\n",
    "T20 = T02\n",
    "T30 = T03\n",
    "\n",
    "T21 = T12\n",
    "T31 = T13\n",
    "\n",
    "T32 = T23\n",
    "\n",
    "T_con = Matrix([[T00,T01,T02,T03],[T10,T11,T12,T13],[T20,T21,T22,T23],[T30,T31,T32,T33]])\n",
    "\n",
    "for i in range(0,4):\n",
    "    for j in range(0,4):\n",
    "        #T_con[i,j] = n * h * U_con[i] * U_con[j] + p * g_con[i,j]\n",
    "        if coords == 'cyll':\n",
    "            rr = symbols('rr')\n",
    "            T_con[i,j] = T_con[i,j].replace((R**2 + z**2)**(1/2),r)\n",
    "            T_con[i,j] = T_con[i,j].replace(sqrt(R**2 + z**2),r)\n",
    "            T_con[i,j] = T_con[i,j].replace((R**2 + z**2)**(3/2),r**3)\n",
    "            T_con[i,j] = T_con[i,j].replace(R**2 + z**2,r**2)"
   ]
  },
  {
   "cell_type": "code",
   "execution_count": 274,
   "metadata": {},
   "outputs": [],
   "source": [
    "g = MetricTensor('g',X,g_cov)\n",
    "Ga = Christoffel('Ga',g)\n",
    "\n",
    "Gamma0 = Matrix([[0,0,0,0],[0,0,0,0],[0,0,0,0],[0,0,0,0]])\n",
    "Gamma1 = Matrix([[0,0,0,0],[0,0,0,0],[0,0,0,0],[0,0,0,0]])\n",
    "Gamma2 = Matrix([[0,0,0,0],[0,0,0,0],[0,0,0,0],[0,0,0,0]])\n",
    "Gamma3 = Matrix([[0,0,0,0],[0,0,0,0],[0,0,0,0],[0,0,0,0]])\n",
    "\n",
    "Gam0 = Matrix([[0,0,0,0],[0,0,0,0],[0,0,0,0],[0,0,0,0]])\n",
    "Gam1 = Matrix([[0,0,0,0],[0,0,0,0],[0,0,0,0],[0,0,0,0]])\n",
    "Gam2 = Matrix([[0,0,0,0],[0,0,0,0],[0,0,0,0],[0,0,0,0]])\n",
    "Gam3 = Matrix([[0,0,0,0],[0,0,0,0],[0,0,0,0],[0,0,0,0]])\n",
    "\n",
    "for i in range(1,5):\n",
    "    for j in range(1,5):\n",
    "        Gamma0[i-1,j-1] = simplify(Ga(1,i,j))\n",
    "        Gamma1[i-1,j-1] = simplify(Ga(2,i,j))        \n",
    "        Gamma2[i-1,j-1] = simplify(Ga(3,i,j))        \n",
    "        Gamma3[i-1,j-1] = simplify(Ga(4,i,j))        \n",
    "        \n",
    "for i in range(1,5):\n",
    "    for j in range(1,5):\n",
    "        Gam0[i-1,j-1] = simplify(Ga(i,1,j))\n",
    "        Gam1[i-1,j-1] = simplify(Ga(i,2,j))        \n",
    "        Gam2[i-1,j-1] = simplify(Ga(i,3,j))       \n",
    "        Gam3[i-1,j-1] = simplify(Ga(i,4,j))"
   ]
  },
  {
   "cell_type": "code",
   "execution_count": 275,
   "metadata": {},
   "outputs": [],
   "source": [
    "if coords == 'cyll':\n",
    "    Gamma0 = Gamma0.replace(R**2 + z**2,r**2)\n",
    "    Gamma1 = Gamma1.replace(R**2 + z**2,r**2)\n",
    "    Gamma2 = Gamma2.replace(R**2 + z**2,r**2)\n",
    "    Gamma3 = Gamma3.replace(R**2 + z**2,r**2)\n",
    "    \n",
    "    Gam0 = Gam0.replace(R**2 + z**2,r**2)\n",
    "    Gam1 = Gam1.replace(R**2 + z**2,r**2)\n",
    "    Gam2 = Gam2.replace(R**2 + z**2,r**2)\n",
    "    Gam3 = Gam3.replace(R**2 + z**2,r**2)\n",
    "    \n",
    "    Gamma0 = Gamma0.replace(R**4 + 2*R**2*z**2 + z**4,r**4)\n",
    "    Gamma1 = Gamma1.replace(R**4 + 2*R**2*z**2 + z**4,r**4)\n",
    "    Gamma2 = Gamma2.replace(R**4 + 2*R**2*z**2 + z**4,r**4)\n",
    "    Gamma3 = Gamma3.replace(R**4 + 2*R**2*z**2 + z**4,r**4)\n",
    "    \n",
    "    Gam0 = Gam0.replace(R**4 + 2*R**2*z**2 + z**4,r**4)\n",
    "    Gam1 = Gam1.replace(R**4 + 2*R**2*z**2 + z**4,r**4)\n",
    "    Gam2 = Gam2.replace(R**4 + 2*R**2*z**2 + z**4,r**4)\n",
    "    Gam3 = Gam3.replace(R**4 + 2*R**2*z**2 + z**4,r**4)"
   ]
  },
  {
   "cell_type": "code",
   "execution_count": 277,
   "metadata": {},
   "outputs": [],
   "source": [
    "da = Matrix([[0,0,0,0]])\n",
    "for i in range(1,5):\n",
    "    loga = log(a)\n",
    "    if coords == 'cyll':\n",
    "        loga = loga.replace(r,sqrt(R**2 + z**2))\n",
    "    da[i-1] = simplify(diff(loga,X(-i)))\n",
    "\n",
    "da = da.replace(R**2 + z**2,r**2)\n",
    "\n",
    "S    = Matrix([[0,0,0,0]])\n",
    "Tda  = Matrix([[0,0,0,0]])\n",
    "GamT = Matrix([[0,0,0,0]])\n",
    "\n",
    "for i in range(0,4):\n",
    "    Tda[i] = sum(T_con[i,j]*da[j] for j in range(0,4))\n",
    "    GamT[i] = sum(Ga(i+1,j+1,k+1)*T_con[j,k] for j,k in list(variations(range(0,4),2,True)))\n",
    "    S[i] = a*(Tda[i] - GamT[i])\n",
    "\n",
    "SS = Matrix([[0,0,0,0]])\n",
    "gGamT = Matrix([[0,0,0,0]])\n",
    "dgT   = Matrix([[0,0,0,0]])\n",
    "\n",
    "for i in range(0,4):\n",
    "    gGamT[i] = sum(g_cov[i,j]*GamT[j] for j in range(0,4))\n",
    "    dgT[i] = sum(T_con[j,k]*diff(g_cov[i,k],X(-j-1)) for j,k in list(variations(range(0,4),2,True)))\n",
    "    SS[i] = dgT[i] - gGamT[i]\n",
    "\n",
    "if coords == 'cyll':\n",
    "    S  = S.replace(R**2 + z**2,r**2)\n",
    "    SS = SS.replace(R**2 + z**2,r**2)"
   ]
  },
  {
   "cell_type": "code",
   "execution_count": 278,
   "metadata": {},
   "outputs": [],
   "source": [
    "D   = n*W\n",
    "E   = D*h*W\n",
    "Mv1 = D*h*W*V_cov[0]\n",
    "Mv2 = D*h*W*V_cov[1]\n",
    "Mv3 = D*h*W*V_cov[2]\n",
    "b1  = 0\n",
    "b2  = 0\n",
    "b3  = 0"
   ]
  },
  {
   "cell_type": "code",
   "execution_count": 279,
   "metadata": {},
   "outputs": [],
   "source": [
    "q = Matrix([[0,0,0,0,0,0,0,0]])\n",
    "f = Matrix([[0,0,0,0,0,0,0,0]])\n",
    "g = Matrix([[0,0,0,0,0,0,0,0]])\n",
    "h = Matrix([[0,0,0,0,0,0,0,0]])\n",
    "s = Matrix([[0,0,0,0,0,0,0,0]])\n",
    "\n",
    "q[0] = simplify(E)\n",
    "q[1] = simplify(Mv1)\n",
    "q[2] = simplify(Mv2)\n",
    "q[3] = simplify(Mv3)\n",
    "q[4] = simplify(b1)\n",
    "q[5] = simplify(b2)\n",
    "q[6] = simplify(b3)\n",
    "q[7] = simplify(D)"
   ]
  },
  {
   "cell_type": "code",
   "execution_count": 280,
   "metadata": {},
   "outputs": [],
   "source": [
    "f[0] = simplify(E*(V_con[0] - B_con[0]/a) + p*V_con[0])\n",
    "f[1] = simplify(Mv1*(V_con[0] - B_con[0]/a) + p)\n",
    "f[2] = simplify(Mv2*(V_con[0] - B_con[0]/a))\n",
    "f[3] = simplify(Mv3*(V_con[0] - B_con[0]/a))\n",
    "f[4] = 0\n",
    "f[5] = 0\n",
    "f[6] = 0\n",
    "f[7] = simplify(D*(V_con[1] - B_con[1]/a))"
   ]
  },
  {
   "cell_type": "code",
   "execution_count": 281,
   "metadata": {},
   "outputs": [],
   "source": [
    "g[0] = simplify(E*(V_con[1] - B_con[1]/a) + p*V_con[1])\n",
    "g[1] = simplify(Mv1*(V_con[1] - B_con[1]/a))\n",
    "g[2] = simplify(Mv2*(V_con[1] - B_con[1]/a) + p)\n",
    "g[3] = simplify(Mv3*(V_con[1] - B_con[1]/a))\n",
    "g[4] = 0\n",
    "g[5] = 0\n",
    "g[6] = 0\n",
    "g[7] = simplify(D*(V_con[1] - B_con[1]/a))"
   ]
  },
  {
   "cell_type": "code",
   "execution_count": 282,
   "metadata": {},
   "outputs": [],
   "source": [
    "h[0] = simplify(E*(V_con[2] - B_con[2]/a) + p*V_con[2])\n",
    "h[1] = simplify(Mv1*(V_con[2] - B_con[2]/a))\n",
    "h[2] = simplify(Mv2*(V_con[2] - B_con[2]/a))\n",
    "h[3] = simplify(Mv3*(V_con[2] - B_con[2]/a) + p)\n",
    "h[4] = 0\n",
    "h[5] = 0\n",
    "h[6] = 0\n",
    "h[7] = simplify(D*(V_con[2] - B_con[2]/a))"
   ]
  },
  {
   "cell_type": "code",
   "execution_count": 283,
   "metadata": {},
   "outputs": [],
   "source": [
    "s[0] = S[0]\n",
    "s[1] = SS[1]\n",
    "s[2] = SS[2]\n",
    "s[3] = SS[3]\n",
    "s[4] = 0\n",
    "s[5] = 0\n",
    "s[6] = 0\n",
    "s[7] = 0"
   ]
  },
  {
   "cell_type": "code",
   "execution_count": 284,
   "metadata": {},
   "outputs": [],
   "source": [
    "import os\n",
    "\n",
    "file = open(\"conservative-\"+metric+\"-\"+coords+\".txt\",\"w\")\n",
    "\n",
    "for i in range(0,8):\n",
    "    file.write(\"%s\\n\" % str(q[i]))\n",
    "    \n",
    "file.close()\n",
    "\n",
    "file = open(\"fluxes1-\"+metric+\"-\"+coords+\".txt\",\"w\")\n",
    "\n",
    "for i in range(0,8):\n",
    "    file.write(\"%s\\n\" % str(f[i]))\n",
    "    \n",
    "file.close()\n",
    "\n",
    "file = open(\"fluxes2-\"+metric+\"-\"+coords+\".txt\",\"w\")\n",
    "\n",
    "for i in range(0,8):\n",
    "    file.write(\"%s\\n\" % str(g[i]))\n",
    "    \n",
    "file.close()\n",
    "\n",
    "file = open(\"fluxes3-\"+metric+\"-\"+coords+\".txt\",\"w\")\n",
    "\n",
    "for i in range(0,8):\n",
    "    file.write(\"%s\\n\" % str(h[i]))\n",
    "    \n",
    "file.close()\n",
    "\n",
    "\n",
    "file = open(\"sources-\"+metric+\"-\"+coords+\".txt\",\"w\")\n",
    "\n",
    "for i in range(0,8):\n",
    "    file.write(\"%s\\n\" % str(s[i]))\n",
    "    \n",
    "file.close()\n",
    "\n",
    "if coords == 'cart':\n",
    "    os.system(\"sed -i 's/(t, x, y, z)//g' *.txt\")\n",
    "elif coords == 'cyll':\n",
    "    os.system(\"sed -i 's/(t, R, z, phi)//g' *.txt\")\n",
    "elif coords == 'sphr':\n",
    "    os.system(\"sed -i 's/(t, r, theta, phi)//g' *.txt\")"
   ]
  },
  {
   "cell_type": "code",
   "execution_count": null,
   "metadata": {},
   "outputs": [],
   "source": [
    "#S = Function('S')(t,r,theta,phi)\n",
    "#drS = S.diff(r)"
   ]
  },
  {
   "cell_type": "code",
   "execution_count": null,
   "metadata": {},
   "outputs": [],
   "source": [
    "#drS"
   ]
  },
  {
   "cell_type": "code",
   "execution_count": null,
   "metadata": {},
   "outputs": [],
   "source": [
    "#bla = drS.replace(S,r)"
   ]
  },
  {
   "cell_type": "code",
   "execution_count": null,
   "metadata": {},
   "outputs": [],
   "source": [
    "#bla.doit()"
   ]
  }
 ],
 "metadata": {
  "kernelspec": {
   "display_name": "Python 3",
   "language": "python",
   "name": "python3"
  },
  "language_info": {
   "codemirror_mode": {
    "name": "ipython",
    "version": 3
   },
   "file_extension": ".py",
   "mimetype": "text/x-python",
   "name": "python",
   "nbconvert_exporter": "python",
   "pygments_lexer": "ipython3",
   "version": "3.6.5"
  }
 },
 "nbformat": 4,
 "nbformat_minor": 2
}
