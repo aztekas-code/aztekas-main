{
 "cells": [
  {
   "cell_type": "code",
   "execution_count": 1,
   "metadata": {},
   "outputs": [],
   "source": [
    "from sympy import *\n",
    "from gravipy import *\n",
    "init_printing(use_unicode=True)"
   ]
  },
  {
   "cell_type": "code",
   "execution_count": 2,
   "metadata": {},
   "outputs": [],
   "source": [
    "# Choose metric\n",
    "t, r, theta, phi= symbols('t, r, theta, phi')\n",
    "metric = 'Schw'\n",
    "coords = 'cyll'\n",
    "\n",
    "if metric == 'Mink':\n",
    "    G = Matrix([[-1,0,0,0],[0,1,0,0],[0,0,r**2,0],[0,0,0,r**2*sin(theta)**2]])\n",
    "elif metric == 'Schw':\n",
    "    M = symbols('M')\n",
    "    G = Matrix([[-(1 - 2*M/r),0,0,0],[0,1/(1 - 2*M/r),0,0],[0,0,r**2,0],[0,0,0,r**2*sin(theta)**2]])\n",
    "elif metric == 'EF':\n",
    "    M = symbols('M')\n",
    "    G = Matrix([[-(1 - 2*M/r),2*M/r,0,0],[2*M/r,1 + 2*M/r,0,0],[0,0,r**2,0],[0,0,0,r**2*sin(theta)**2]])\n",
    "    "
   ]
  },
  {
   "cell_type": "code",
   "execution_count": 3,
   "metadata": {},
   "outputs": [],
   "source": [
    "if coords == 'cart':\n",
    "    t = t\n",
    "    x = r*sin(theta)*cos(phi)\n",
    "    y = r*sin(theta)*sin(phi)\n",
    "    z = r*cos(theta)\n",
    "   \n",
    "    CART = Matrix([t,x,y,z])\n",
    "    SPHR = Matrix([t,r,theta,phi])\n",
    "   \n",
    "    J  = CART.jacobian(SPHR)\n",
    "    iJ = J**-1\n",
    "    \n",
    "    G = iJ.T * G * iJ  \n",
    "    \n",
    "elif coords == 'cyll':\n",
    "    t   = t\n",
    "    R   = r*sin(theta)\n",
    "    z   = r*cos(theta)\n",
    "    phi = phi\n",
    "    \n",
    "    CYLL = Matrix([t,R,z,phi])\n",
    "    SPHR = Matrix([t,r,theta,phi])\n",
    "    \n",
    "    J  = CYLL.jacobian(SPHR)\n",
    "    iJ = J**-1\n",
    "    \n",
    "    G = iJ.T * G * iJ\n",
    "    "
   ]
  },
  {
   "cell_type": "code",
   "execution_count": 4,
   "metadata": {},
   "outputs": [],
   "source": [
    "if coords == 'cart':\n",
    "    t, x, y,z = symbols('t, x, y, z') # define some symbolic variables\n",
    "    X = Coordinates('\\chi',[t, x, y, z]) \n",
    "elif coords == 'cyll':\n",
    "    t, R, z, phi = symbols('t, R, z, phi')\n",
    "    X = Coordinates('\\chi',[t,R,z,phi])  \n",
    "elif coords == 'sphr':\n",
    "    t, r, theta, phi= symbols('t, r, theta, phi') # define some symbolic variables\n",
    "    X = Coordinates('\\chi',[t,r,theta,phi])"
   ]
  },
  {
   "cell_type": "code",
   "execution_count": 5,
   "metadata": {},
   "outputs": [],
   "source": [
    "u, v, w, cp, sp, ct, st = symbols('u, v, w, cp, sp, ct, st')\n",
    "\n",
    "if coords == 'cart':\n",
    "    G = trigsimp(G)\n",
    "    G = G.replace(cos(phi),cp)\n",
    "    G = G.replace(sin(phi),sp)\n",
    "    G = G.replace(cos(theta),ct)\n",
    "    G = G.replace(sin(theta),st)\n",
    "    G = G.replace(cp,x/(r*st))\n",
    "    G = G.replace(sp,y/(r*st))\n",
    "    G = G.replace(ct,z/r)\n",
    "    G = G.replace(st**2,1 - z**2/r**2)\n",
    "    G = G.replace(r,sqrt(x**2 + y**2 + z**2))\n",
    "    G = expand_trig(G)\n",
    "    G = G.replace(cos(phi),cp)\n",
    "    G = G.replace(sin(phi),sp)\n",
    "    G = G.replace(cos(theta),z/r)\n",
    "    G = G.replace(sin(theta),st)\n",
    "    G = G.replace(cp,x/(r*st))\n",
    "    G = G.replace(sp,y/(r*st))\n",
    "    G = G.replace(r,sqrt(x**2 + y**2 + z**2))\n",
    "    \n",
    "elif coords == 'cyll':\n",
    "    G = trigsimp(G)\n",
    "    G = G.replace(sin(theta),st)\n",
    "    G = G.replace(cos(theta),ct)\n",
    "    G = G.replace(st**2,R**2/r**2)\n",
    "    G = G.replace(ct**2,z**2/r**2)\n",
    "    G = expand_trig(G)\n",
    "    G = G.replace(sin(theta),st)\n",
    "    G = G.replace(cos(theta),ct)\n",
    "    G = G.replace(st,R**2/r)\n",
    "    G = G.replace(ct,z**2/r)\n",
    "    G = G.replace(r,sqrt(R**2 + z**2))"
   ]
  },
  {
   "cell_type": "code",
   "execution_count": 6,
   "metadata": {},
   "outputs": [],
   "source": [
    "G = simplify(G)"
   ]
  },
  {
   "cell_type": "code",
   "execution_count": 7,
   "metadata": {},
   "outputs": [
    {
     "data": {
      "image/png": "[encoded data removed]",
      "text/latex": [
       "$$\\left[\\begin{matrix}\\frac{2 M}{\\sqrt{R^{2} + z^{2}}} - 1 & 0 & 0 & 0\\\\0 & \\frac{2 M z^{2} - \\left(R^{2} + z^{2}\\right)^{\\frac{3}{2}}}{\\left(2 M - \\sqrt{R^{2} + z^{2}}\\right) \\left(R^{2} + z^{2}\\right)} & - \\frac{2 M R^{2} z^{2}}{\\left(2 M - \\sqrt{R^{2} + z^{2}}\\right) \\left(R^{2} + z^{2}\\right)} & 0\\\\0 & - \\frac{2 M R^{2} z^{2}}{\\left(2 M - \\sqrt{R^{2} + z^{2}}\\right) \\left(R^{2} + z^{2}\\right)} & \\frac{2 M R^{2} - \\left(R^{2} + z^{2}\\right)^{\\frac{3}{2}}}{\\left(2 M - \\sqrt{R^{2} + z^{2}}\\right) \\left(R^{2} + z^{2}\\right)} & 0\\\\0 & 0 & 0 & R^{2}\\end{matrix}\\right]$$"
      ],
      "text/plain": [
       "⎡    2⋅M                                                                      \n",
       "⎢──────────── - 1                0                               0            \n",
       "⎢   _________                                                                 \n",
       "⎢  ╱  2    2                                                                  \n",
       "⎢╲╱  R  + z                                                                   \n",
       "⎢                                                                             \n",
       "⎢                                        3/2                                  \n",
       "⎢                           2   ⎛ 2    2⎞                         2  2        \n",
       "⎢                      2⋅M⋅z  - ⎝R  + z ⎠                   -2⋅M⋅R ⋅z         \n",
       "⎢       0          ──────────────────────────────  ───────────────────────────\n",
       "⎢                  ⎛         _________⎞            ⎛         _________⎞       \n",
       "⎢                  ⎜        ╱  2    2 ⎟ ⎛ 2    2⎞  ⎜        ╱  2    2 ⎟ ⎛ 2   \n",
       "⎢                  ⎝2⋅M - ╲╱  R  + z  ⎠⋅⎝R  + z ⎠  ⎝2⋅M - ╲╱  R  + z  ⎠⋅⎝R  + \n",
       "⎢                                                                             \n",
       "⎢                                                                        3/2  \n",
       "⎢                                 2  2                      2   ⎛ 2    2⎞     \n",
       "⎢                           -2⋅M⋅R ⋅z                  2⋅M⋅R  - ⎝R  + z ⎠     \n",
       "⎢       0          ──────────────────────────────  ───────────────────────────\n",
       "⎢                  ⎛         _________⎞            ⎛         _________⎞       \n",
       "⎢                  ⎜        ╱  2    2 ⎟ ⎛ 2    2⎞  ⎜        ╱  2    2 ⎟ ⎛ 2   \n",
       "⎢                  ⎝2⋅M - ╲╱  R  + z  ⎠⋅⎝R  + z ⎠  ⎝2⋅M - ╲╱  R  + z  ⎠⋅⎝R  + \n",
       "⎢                                                                             \n",
       "⎢                                                                             \n",
       "⎣       0                        0                               0            \n",
       "\n",
       "       ⎤\n",
       "     0 ⎥\n",
       "       ⎥\n",
       "       ⎥\n",
       "       ⎥\n",
       "       ⎥\n",
       "       ⎥\n",
       "       ⎥\n",
       "       ⎥\n",
       "───  0 ⎥\n",
       "       ⎥\n",
       " 2⎞    ⎥\n",
       "z ⎠    ⎥\n",
       "       ⎥\n",
       "       ⎥\n",
       "       ⎥\n",
       "       ⎥\n",
       "───  0 ⎥\n",
       "       ⎥\n",
       " 2⎞    ⎥\n",
       "z ⎠    ⎥\n",
       "       ⎥\n",
       "      2⎥\n",
       "     R ⎦"
      ]
     },
     "execution_count": 7,
     "metadata": {},
     "output_type": "execute_result"
    }
   ],
   "source": [
    "G"
   ]
  },
  {
   "cell_type": "code",
   "execution_count": 8,
   "metadata": {},
   "outputs": [],
   "source": [
    "g_cov = G\n",
    "g_con = g_cov**-1\n",
    "\n",
    "detg = simplify(sqrt(g_cov.det()))\n",
    "g = MetricTensor('g',X,g_cov)"
   ]
  },
  {
   "cell_type": "code",
   "execution_count": 9,
   "metadata": {},
   "outputs": [],
   "source": [
    "y_cov = g_cov[1:4,1:4]\n",
    "y_con = y_cov**-1\n",
    "\n",
    "dety = simplify(sqrt(y_cov.det()))"
   ]
  },
  {
   "cell_type": "code",
   "execution_count": 10,
   "metadata": {},
   "outputs": [],
   "source": [
    "a = simplify(sqrt(-g_cov.det()/y_cov.det()))\n",
    "\n",
    "B_cov = g_cov[0,1:4]\n",
    "B_con = simplify(y_con * B_cov.T)\n",
    "#a = Function(\"a\")(t,r,theta,phi)simplify(U(-1))\n",
    "\n",
    "#Bcov1 = Function(\"Bcov1\")(t,r,theta,phi)\n",
    "#Bcov2 = Function(\"Bcov1\")(t,r,theta,phi)\n",
    "#Bcov3 = Function(\"Bcov1\")(t,r,theta,phi)\n",
    "\n",
    "#B_cov = Matrix([[Bcov1,Bcov2,Bcov3]])\n",
    "#B_con = y_con * B_cov.T"
   ]
  },
  {
   "cell_type": "code",
   "execution_count": 11,
   "metadata": {},
   "outputs": [],
   "source": [
    "rho, p, u, v, w = symbols('\\rho, p, u, v, w')\n",
    "m, n, o         = symbols('m, n, o')\n",
    "\n",
    "V_cov = Matrix([u,v,w])\n",
    "V_con = Matrix([0,0,0])\n",
    "\n",
    "V_con = y_con * V_cov\n",
    "\n",
    "VV = V_cov.T * V_con\n",
    "\n",
    "m_cov = Matrix([m,n,o])\n",
    "m_con = Matrix([0,0,0])\n",
    "\n",
    "m_con = y_con * m_cov\n",
    "\n",
    "mm = m_cov.T * m_con"
   ]
  },
  {
   "cell_type": "code",
   "execution_count": 12,
   "metadata": {},
   "outputs": [],
   "source": [
    "if coords == 'cart':\n",
    "    W = Function(\"W\")(t,x,y,z)\n",
    "elif coords == 'cyll':\n",
    "    W = Function(\"W\")(t,R,z,phi)\n",
    "elif coords == 'sphr':\n",
    "    W = Function(\"W\")(t,r,theta,phi)\n",
    "\n",
    "U_con = Matrix([0,0,0,0])\n",
    "U_con[0] = simplify(W/a)\n",
    "for i in range(0,3):\n",
    "    U_con[i+1] = simplify(W*(V_con[i] - B_con[i]/a))\n",
    "\n",
    "U_cov = simplify(g_cov * U_con)"
   ]
  },
  {
   "cell_type": "code",
   "execution_count": 60,
   "metadata": {},
   "outputs": [],
   "source": [
    "if coords == 'cart':\n",
    "    h = Function(\"h\")(t,x,y,z)\n",
    "elif coords == 'cyll':\n",
    "    h = Function(\"h\")(t,R,z,phi)\n",
    "elif coords == 'sphr':\n",
    "    h = Function(\"h\")(t,r,theta,phi)\n",
    "\n",
    "T_cov = Matrix([[0,0,0,0],[0,0,0,0],[0,0,0,0],[0,0,0,0]])\n",
    "T_con = Matrix([[0,0,0,0],[0,0,0,0],[0,0,0,0],[0,0,0,0]])\n",
    "\n",
    "for i in range(0,4):\n",
    "    for j in range(0,4):\n",
    "        T_cov[i,j] = n * h * U_cov[i] * U_cov[j] + p * g_cov[i,j]\n",
    "        T_con[i,j] = n * h * U_con[i] * U_con[j] + p * g_con[i,j]\n",
    "        if coords == 'cyll':\n",
    "            rr = symbols('rr')\n",
    "            T_cov[i,j] = T_cov[i,j].replace((R**2 + z**2)**(1/2),r)\n",
    "            T_cov[i,j] = T_cov[i,j].replace(sqrt(R**2 + z**2),r)\n",
    "            T_cov[i,j] = T_cov[i,j].replace((R**2 + z**2)**(3/2),r**3)\n",
    "            #T_cov[i,j] = T_cov[i,j].replace(R**2 + z**2,r**2)\n"
   ]
  },
  {
   "cell_type": "code",
   "execution_count": 64,
   "metadata": {},
   "outputs": [
    {
     "data": {
      "image/png": "[encoded data removed]",
      "text/latex": [
       "$$- \\frac{n \\left(4 M^{2} R^{4} z^{4} - \\left(2 M R^{2} - r^{3}\\right) \\left(2 M z^{2} - r^{3}\\right)\\right) \\left(4 M^{2} R^{4} r + 8 M^{2} R^{2} r z^{2} + 4 M^{2} r z^{4} - 4 M R^{6} - 12 M R^{4} z^{2} - 12 M R^{2} z^{4} - 4 M z^{6} + R^{6} r + 3 R^{4} r z^{2} + 3 R^{2} r z^{4} + r z^{6}\\right) W^{2}{\\left (t,R,z,\\phi \\right )} h{\\left (t,R,z,\\phi \\right )}}{\\left(R^{2} + z^{2}\\right)^{3} \\left(8 M^{3} R^{4} z^{4} - 8 M^{3} R^{2} z^{2} - 4 M^{2} R^{4} r z^{4} + 4 M^{2} R^{4} r + 12 M^{2} R^{2} r z^{2} + 4 M^{2} r z^{4} - 4 M R^{6} - 12 M R^{4} z^{2} - 12 M R^{2} z^{4} - 4 M z^{6} + R^{6} r + 3 R^{4} r z^{2} + 3 R^{2} r z^{4} + r z^{6}\\right)} + p \\left(\\frac{2 M}{\\sqrt{R^{2} + z^{2}}} - 1\\right)$$"
      ],
      "text/plain": [
       "    ⎛   2  4  4   ⎛     2    3⎞ ⎛     2    3⎞⎞ ⎛   2  4        2  2    2      \n",
       "  n⋅⎝4⋅M ⋅R ⋅z  - ⎝2⋅M⋅R  - r ⎠⋅⎝2⋅M⋅z  - r ⎠⎠⋅⎝4⋅M ⋅R ⋅r + 8⋅M ⋅R ⋅r⋅z  + 4⋅M\n",
       "- ────────────────────────────────────────────────────────────────────────────\n",
       "                     3                                                        \n",
       "            ⎛ 2    2⎞  ⎛   3  4  4      3  2  2      2  4    4      2  4      \n",
       "            ⎝R  + z ⎠ ⋅⎝8⋅M ⋅R ⋅z  - 8⋅M ⋅R ⋅z  - 4⋅M ⋅R ⋅r⋅z  + 4⋅M ⋅R ⋅r + 1\n",
       "\n",
       "2    4        6         4  2         2  4        6    6        4    2      2  \n",
       " ⋅r⋅z  - 4⋅M⋅R  - 12⋅M⋅R ⋅z  - 12⋅M⋅R ⋅z  - 4⋅M⋅z  + R ⋅r + 3⋅R ⋅r⋅z  + 3⋅R ⋅r\n",
       "──────────────────────────────────────────────────────────────────────────────\n",
       "                                                                              \n",
       "   2  2    2      2    4        6         4  2         2  4        6    6     \n",
       "2⋅M ⋅R ⋅r⋅z  + 4⋅M ⋅r⋅z  - 4⋅M⋅R  - 12⋅M⋅R ⋅z  - 12⋅M⋅R ⋅z  - 4⋅M⋅z  + R ⋅r + \n",
       "\n",
       "  4      6⎞  2                                                 \n",
       "⋅z  + r⋅z ⎠⋅W (t, R, z, φ)⋅h(t, R, z, φ)     ⎛    2⋅M         ⎞\n",
       "──────────────────────────────────────── + p⋅⎜──────────── - 1⎟\n",
       "                                             ⎜   _________    ⎟\n",
       "   4    2      2    4      6⎞                ⎜  ╱  2    2     ⎟\n",
       "3⋅R ⋅r⋅z  + 3⋅R ⋅r⋅z  + r⋅z ⎠                ⎝╲╱  R  + z      ⎠"
      ]
     },
     "execution_count": 64,
     "metadata": {},
     "output_type": "execute_result"
    }
   ],
   "source": [
    "T_cov[0,0]"
   ]
  },
  {
   "cell_type": "code",
   "execution_count": null,
   "metadata": {},
   "outputs": [],
   "source": [
    "Ga = Christoffel('Ga',g)\n",
    "\n",
    "Gamma0 = Matrix([[0,0,0,0],[0,0,0,0],[0,0,0,0],[0,0,0,0]])\n",
    "Gamma1 = Matrix([[0,0,0,0],[0,0,0,0],[0,0,0,0],[0,0,0,0]])\n",
    "Gamma2 = Matrix([[0,0,0,0],[0,0,0,0],[0,0,0,0],[0,0,0,0]])\n",
    "Gamma3 = Matrix([[0,0,0,0],[0,0,0,0],[0,0,0,0],[0,0,0,0]])\n",
    "\n",
    "Gam0 = Matrix([[0,0,0,0],[0,0,0,0],[0,0,0,0],[0,0,0,0]])\n",
    "Gam1 = Matrix([[0,0,0,0],[0,0,0,0],[0,0,0,0],[0,0,0,0]])\n",
    "Gam2 = Matrix([[0,0,0,0],[0,0,0,0],[0,0,0,0],[0,0,0,0]])\n",
    "Gam3 = Matrix([[0,0,0,0],[0,0,0,0],[0,0,0,0],[0,0,0,0]])\n",
    "\n",
    "for i in range(1,5):\n",
    "    for j in range(1,5):\n",
    "        Gamma0[i-1,j-1] = simplify(Ga(1,i,j))\n",
    "        Gamma1[i-1,j-1] = simplify(Ga(2,i,j))        \n",
    "        Gamma2[i-1,j-1] = simplify(Ga(3,i,j))        \n",
    "        Gamma3[i-1,j-1] = simplify(Ga(4,i,j))        \n",
    "        \n",
    "for i in range(1,5):\n",
    "    for j in range(1,5):\n",
    "        Gam0[i-1,j-1] = Ga(i,1,j)\n",
    "        Gam1[i-1,j-1] = Ga(i,2,j)        \n",
    "        Gam2[i-1,j-1] = Ga(i,3,j)        \n",
    "        Gam3[i-1,j-1] = Ga(i,4,j)  "
   ]
  },
  {
   "cell_type": "code",
   "execution_count": null,
   "metadata": {},
   "outputs": [],
   "source": [
    "da = Matrix([[0,0,0,0]])\n",
    "for i in range(1,5):\n",
    "    loga = log(a)\n",
    "    da[i-1] = simplify(diff(loga,X(-i)))\n",
    "    \n",
    "S    = Matrix([[0,0,0,0]])\n",
    "Tda  = Matrix([[0,0,0,0]])\n",
    "GamT = Matrix([[0,0,0,0]])\n",
    "\n",
    "for i in range(0,4):\n",
    "    Tda[i] = sum(T_con[i,j]*da[j] for j in range(0,4))\n",
    "    GamT[i] = sum(Ga(i+1,j+1,k+1)*T_con[j,k] for j,k in list(variations(range(0,4),2,True)))\n",
    "    S[i] = a*(Tda[i] - GamT[i])\n",
    "\n",
    "SS = Matrix([[0,0,0,0]])\n",
    "gGamT = Matrix([[0,0,0,0]])\n",
    "dgT   = Matrix([[0,0,0,0]])\n",
    "\n",
    "for i in range(0,4):\n",
    "    gGamT[i] = sum(g_cov[i,j]*GamT[j] for j in range(0,4))\n",
    "    dgT[i] = sum(T_con[j,k]*diff(g_cov[i,k],X(-j-1)) for j,k in list(variations(range(0,4),2,True)))\n",
    "    SS[i] = dgT[i] - gGamT[i]"
   ]
  },
  {
   "cell_type": "code",
   "execution_count": null,
   "metadata": {},
   "outputs": [],
   "source": [
    "D   = n*W\n",
    "E   = D*h*W\n",
    "Mv1 = D*h*W*V_cov[0]\n",
    "Mv2 = D*h*W*V_cov[1]\n",
    "Mv3 = D*h*W*V_cov[2]\n",
    "b1  = 0\n",
    "b2  = 0\n",
    "b3  = 0"
   ]
  },
  {
   "cell_type": "code",
   "execution_count": null,
   "metadata": {},
   "outputs": [],
   "source": [
    "q = Matrix([[0,0,0,0,0,0,0,0]])\n",
    "f = Matrix([[0,0,0,0,0,0,0,0]])\n",
    "g = Matrix([[0,0,0,0,0,0,0,0]])\n",
    "h = Matrix([[0,0,0,0,0,0,0,0]])\n",
    "s = Matrix([[0,0,0,0,0,0,0,0]])\n",
    "\n",
    "q[0] = simplify(E)\n",
    "q[1] = simplify(Mv1)\n",
    "q[2] = simplify(Mv2)\n",
    "q[3] = simplify(Mv3)\n",
    "q[4] = simplify(b1)\n",
    "q[5] = simplify(b2)\n",
    "q[6] = simplify(b3)\n",
    "q[7] = simplify(D)"
   ]
  },
  {
   "cell_type": "code",
   "execution_count": null,
   "metadata": {},
   "outputs": [],
   "source": [
    "f[0] = simplify(E*(V_con[0] - B_con[0]/a) + p*V_con[0])\n",
    "f[1] = simplify(Mv1*(V_con[0] - B_con[0]/a) + p)\n",
    "f[2] = simplify(Mv2*(V_con[0] - B_con[0]/a))\n",
    "f[3] = simplify(Mv3*(V_con[0] - B_con[0]/a))\n",
    "f[4] = 0\n",
    "f[5] = 0\n",
    "f[6] = 0\n",
    "f[7] = simplify(D*(V_con[1] - B_con[1]/a))"
   ]
  },
  {
   "cell_type": "code",
   "execution_count": null,
   "metadata": {},
   "outputs": [],
   "source": [
    "g[0] = simplify(E*(V_con[1] - B_con[1]/a) + p*V_con[1])\n",
    "g[1] = simplify(Mv1*(V_con[1] - B_con[1]/a))\n",
    "g[2] = simplify(Mv2*(V_con[1] - B_con[1]/a) + p)\n",
    "g[3] = simplify(Mv3*(V_con[1] - B_con[1]/a))\n",
    "g[4] = 0\n",
    "g[5] = 0\n",
    "g[6] = 0\n",
    "g[7] = simplify(D*(V_con[1] - B_con[1]/a))"
   ]
  },
  {
   "cell_type": "code",
   "execution_count": null,
   "metadata": {},
   "outputs": [],
   "source": [
    "h[0] = simplify(E*(V_con[2] - B_con[2]/a) + p*V_con[2])\n",
    "h[1] = simplify(Mv1*(V_con[2] - B_con[2]/a))\n",
    "h[2] = simplify(Mv2*(V_con[2] - B_con[2]/a))\n",
    "h[3] = simplify(Mv3*(V_con[2] - B_con[2]/a) + p)\n",
    "h[4] = 0\n",
    "h[5] = 0\n",
    "h[6] = 0\n",
    "h[7] = simplify(D*(V_con[2] - B_con[2]/a))"
   ]
  },
  {
   "cell_type": "code",
   "execution_count": null,
   "metadata": {},
   "outputs": [],
   "source": [
    "s[0] = factor(S[0])\n",
    "s[1] = SS[1]\n",
    "s[2] = SS[2]\n",
    "s[3] = SS[3]\n",
    "s[4] = 0\n",
    "s[5] = 0\n",
    "s[6] = 0\n",
    "s[7] = 0"
   ]
  },
  {
   "cell_type": "code",
   "execution_count": null,
   "metadata": {},
   "outputs": [],
   "source": [
    "import os\n",
    "\n",
    "file = open(\"conservative-\"+metric+\"-\"+coords+\".txt\",\"w\")\n",
    "\n",
    "for i in range(0,8):\n",
    "    file.write(\"%s\\n\" % str(q[i]))\n",
    "    \n",
    "file.close()\n",
    "\n",
    "file = open(\"fluxes1-\"+metric+\"-\"+coords+\".txt\",\"w\")\n",
    "\n",
    "for i in range(0,8):\n",
    "    file.write(\"%s\\n\" % str(f[i]))\n",
    "    \n",
    "file.close()\n",
    "\n",
    "file = open(\"fluxes2-\"+metric+\"-\"+coords+\".txt\",\"w\")\n",
    "\n",
    "for i in range(0,8):\n",
    "    file.write(\"%s\\n\" % str(g[i]))\n",
    "    \n",
    "file.close()\n",
    "\n",
    "file = open(\"fluxes3-\"+metric+\"-\"+coords+\".txt\",\"w\")\n",
    "\n",
    "for i in range(0,8):\n",
    "    file.write(\"%s\\n\" % str(h[i]))\n",
    "    \n",
    "file.close()\n",
    "\n",
    "\n",
    "file = open(\"sources-\"+metric+\"-\"+coords+\".txt\",\"w\")\n",
    "\n",
    "for i in range(0,8):\n",
    "    file.write(\"%s\\n\" % str(s[i]))\n",
    "    \n",
    "file.close()\n",
    "\n",
    "if coords == 'cart':\n",
    "    os.system(\"sed -i 's/(t, x, y, z)//g' *.txt\")\n",
    "elif coords == 'cyll':\n",
    "    os.system(\"sed -i 's/(t, R, z, phi)//g' *.txt\")\n",
    "elif coords == 'sphr':\n",
    "    os.system(\"sed -i 's/(t, r, theta, phi)//g' *.txt\")"
   ]
  },
  {
   "cell_type": "code",
   "execution_count": null,
   "metadata": {},
   "outputs": [],
   "source": [
    "S = Function('S')(t,r,theta,phi)\n",
    "drS = S.diff(r)"
   ]
  },
  {
   "cell_type": "code",
   "execution_count": null,
   "metadata": {},
   "outputs": [],
   "source": [
    "drS"
   ]
  },
  {
   "cell_type": "code",
   "execution_count": null,
   "metadata": {},
   "outputs": [],
   "source": [
    "bla = drS.replace(S,r)"
   ]
  },
  {
   "cell_type": "code",
   "execution_count": null,
   "metadata": {},
   "outputs": [],
   "source": [
    "bla.doit()"
   ]
  }
 ],
 "metadata": {
  "kernelspec": {
   "display_name": "Python 3",
   "language": "python",
   "name": "python3"
  },
  "language_info": {
   "codemirror_mode": {
    "name": "ipython",
    "version": 3
   },
   "file_extension": ".py",
   "mimetype": "text/x-python",
   "name": "python",
   "nbconvert_exporter": "python",
   "pygments_lexer": "ipython3",
   "version": "3.7.1"
  }
 },
 "nbformat": 4,
 "nbformat_minor": 2
}
