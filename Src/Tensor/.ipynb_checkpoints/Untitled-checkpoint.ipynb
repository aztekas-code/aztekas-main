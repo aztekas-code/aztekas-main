{
 "cells": [
  {
   "cell_type": "code",
   "execution_count": 11,
   "metadata": {},
   "outputs": [],
   "source": [
    "from sympy import *\n",
    "from gravipy import *\n",
    "init_printing(use_unicode=True)"
   ]
  },
  {
   "cell_type": "code",
   "execution_count": 12,
   "metadata": {},
   "outputs": [],
   "source": [
    "# Choose metric\n",
    "t = symbols('t', positive = True, real = True)\n",
    "r = symbols('r', positive = True, real = True)\n",
    "theta = symbols('theta', real = True)\n",
    "phi = symbols('phi',positive = True, real = True)\n",
    "metric = 'EF'\n",
    "\n",
    "if metric == 'Mink':\n",
    "    G    = Matrix([[-1,0,0,0],[0,1,0,0],[0,0,r**2,0],[0,0,0,r**2*sin(theta)**2]])\n",
    "    iG   = simplify(G**-1)\n",
    "    detg = G.det()\n",
    "    Y    = G[1:4,1:4]\n",
    "    iY   = iG[1:4,1:4]\n",
    "    dety = Y.det()\n",
    "elif metric == 'Schw':\n",
    "    M    = symbols('M', positive = True, real = True)\n",
    "    G    = Matrix([[-(1 - 2*M/r),0,0,0],[0,1/(1 - 2*M/r),0,0],[0,0,r**2,0],[0,0,0,r**2*sin(theta)**2]])\n",
    "    iG   = simplify(G**-1)\n",
    "    detg = G.det()\n",
    "    Y    = G[1:4,1:4]\n",
    "    iY   = iG[1:4,1:4]\n",
    "    dety = Y.det()\n",
    "elif metric == 'EF':\n",
    "    M    = symbols('M', positive = True, real = True)\n",
    "    G    = Matrix([[-(1 - 2*M/r),2*M/r,0,0],[2*M/r,1 + 2*M/r,0,0],[0,0,r**2,0],[0,0,0,r**2*sin(theta)**2]])\n",
    "    iG   = simplify(G**-1)\n",
    "    detg = G.det()\n",
    "    Y    = G[1:4,1:4]\n",
    "    iY   = iG[1:4,1:4]\n",
    "    dety = Y.det()"
   ]
  },
  {
   "cell_type": "code",
   "execution_count": 15,
   "metadata": {},
   "outputs": [],
   "source": [
    "g_cov = G\n",
    "g_con = iG\n",
    "\n",
    "y_cov = G[1:4,1:4]\n",
    "y_con = iG[1:4,1:4]"
   ]
  },
  {
   "cell_type": "code",
   "execution_count": 16,
   "metadata": {},
   "outputs": [],
   "source": [
    "a2  = cancel(detg/dety)\n",
    "a   = sqrt(-a2)\n",
    "ia2 = cancel(1/a2)\n",
    "ia  = sqrt(-ia2)\n",
    "\n",
    "B_cov = G[0,1:4]\n",
    "B_con = simplify(y_con * B_cov.T)"
   ]
  },
  {
   "cell_type": "code",
   "execution_count": 17,
   "metadata": {},
   "outputs": [
    {
     "data": {
      "image/png": "[encoded data removed]",
      "text/latex": [
       "$$\\left[\\begin{matrix}\\frac{2 M}{r} & 0 & 0\\end{matrix}\\right]$$"
      ],
      "text/plain": [
       "⎡2⋅M      ⎤\n",
       "⎢───  0  0⎥\n",
       "⎣ r       ⎦"
      ]
     },
     "execution_count": 17,
     "metadata": {},
     "output_type": "execute_result"
    }
   ],
   "source": [
    "B_cov"
   ]
  },
  {
   "cell_type": "code",
   "execution_count": 20,
   "metadata": {},
   "outputs": [],
   "source": [
    "if coords == 'cyll':\n",
    "    R   = r*sin(theta)\n",
    "    z   = r*cos(theta)\n",
    "    phi = phi\n",
    "    \n",
    "    CYLL = Matrix([R,z,phi])\n",
    "    SPHR = Matrix([r,theta,phi])\n",
    "    \n",
    "    J  = simplify(CYLL.jacobian(SPHR))\n",
    "    iJ = simplify(J**-1)\n",
    "\n",
    "    B_cov = J * B_cov.T"
   ]
  },
  {
   "cell_type": "code",
   "execution_count": 21,
   "metadata": {},
   "outputs": [
    {
     "data": {
      "image/png": "[encoded data removed]",
      "text/latex": [
       "$$\\left[\\begin{matrix}\\frac{2 M}{r} \\sin{\\left (\\theta \\right )}\\\\\\frac{2 M}{r} \\cos{\\left (\\theta \\right )}\\\\0\\end{matrix}\\right]$$"
      ],
      "text/plain": [
       "⎡2⋅M⋅sin(θ)⎤\n",
       "⎢──────────⎥\n",
       "⎢    r     ⎥\n",
       "⎢          ⎥\n",
       "⎢2⋅M⋅cos(θ)⎥\n",
       "⎢──────────⎥\n",
       "⎢    r     ⎥\n",
       "⎢          ⎥\n",
       "⎣    0     ⎦"
      ]
     },
     "execution_count": 21,
     "metadata": {},
     "output_type": "execute_result"
    }
   ],
   "source": [
    "B_cov"
   ]
  }
 ],
 "metadata": {
  "kernelspec": {
   "display_name": "Python 3",
   "language": "python",
   "name": "python3"
  },
  "language_info": {
   "codemirror_mode": {
    "name": "ipython",
    "version": 3
   },
   "file_extension": ".py",
   "mimetype": "text/x-python",
   "name": "python",
   "nbconvert_exporter": "python",
   "pygments_lexer": "ipython3",
   "version": "3.6.5"
  }
 },
 "nbformat": 4,
 "nbformat_minor": 2
}
